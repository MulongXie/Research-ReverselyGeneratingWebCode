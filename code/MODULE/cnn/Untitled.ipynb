{
 "cells": [
  {
   "cell_type": "code",
   "execution_count": 1,
   "metadata": {},
   "outputs": [
    {
     "name": "stderr",
     "output_type": "stream",
     "text": [
      "Using TensorFlow backend.\n"
     ]
    }
   ],
   "source": [
    "import DATA\n",
    "import CONFIG\n",
    "import CNN"
   ]
  },
  {
   "cell_type": "code",
   "execution_count": 2,
   "metadata": {},
   "outputs": [],
   "source": [
    "data = DATA.Data()"
   ]
  },
  {
   "cell_type": "code",
   "execution_count": 3,
   "metadata": {},
   "outputs": [
    {
     "name": "stdout",
     "output_type": "stream",
     "text": [
      "*** Loading components of Button: 79792 ***\n"
     ]
    },
    {
     "name": "stderr",
     "output_type": "stream",
     "text": [
      "100%|██████████| 79792/79792 [02:52<00:00, 462.20it/s] \n"
     ]
    },
    {
     "name": "stdout",
     "output_type": "stream",
     "text": [
      "*** Loading components of Icon: 164659 ***\n"
     ]
    },
    {
     "name": "stderr",
     "output_type": "stream",
     "text": [
      "100%|██████████| 100000/100000 [01:36<00:00, 1035.41it/s]\n"
     ]
    },
    {
     "name": "stdout",
     "output_type": "stream",
     "text": [
      "*** Loading components of Image: 197142 ***\n"
     ]
    },
    {
     "name": "stderr",
     "output_type": "stream",
     "text": [
      "100%|██████████| 100000/100000 [04:21<00:00, 381.97it/s]\n",
      "  0%|          | 0/16167 [00:00<?, ?it/s]"
     ]
    },
    {
     "name": "stdout",
     "output_type": "stream",
     "text": [
      "*** Loading components of Input: 16167 ***\n"
     ]
    },
    {
     "name": "stderr",
     "output_type": "stream",
     "text": [
      "100%|██████████| 16167/16167 [01:30<00:00, 178.23it/s]"
     ]
    },
    {
     "name": "stdout",
     "output_type": "stream",
     "text": [
      "295959 Data Loaded\n"
     ]
    },
    {
     "name": "stderr",
     "output_type": "stream",
     "text": [
      "\n"
     ]
    }
   ],
   "source": [
    "data.load_data()"
   ]
  },
  {
   "cell_type": "code",
   "execution_count": 4,
   "metadata": {},
   "outputs": [
    {
     "name": "stdout",
     "output_type": "stream",
     "text": [
      "X_train:236767, Y_train:236767\n",
      "X_test:59192, Y_test:59192\n"
     ]
    }
   ],
   "source": [
    "data.generate_training_data()"
   ]
  },
  {
   "cell_type": "code",
   "execution_count": 5,
   "metadata": {},
   "outputs": [],
   "source": [
    "cnn = CNN.CNN()"
   ]
  },
  {
   "cell_type": "code",
   "execution_count": 6,
   "metadata": {},
   "outputs": [
    {
     "name": "stdout",
     "output_type": "stream",
     "text": [
      "Train on 236767 samples, validate on 59192 samples\n",
      "Epoch 1/30\n",
      "236767/236767 [==============================] - 113s 477us/step - loss: 0.7895 - acc: 0.6803 - val_loss: 0.6516 - val_acc: 0.7394\n",
      "Epoch 2/30\n",
      "236767/236767 [==============================] - 100s 420us/step - loss: 0.6586 - acc: 0.7423 - val_loss: 0.6958 - val_acc: 0.7321\n",
      "Epoch 3/30\n",
      "236767/236767 [==============================] - 98s 412us/step - loss: 0.6186 - acc: 0.7590 - val_loss: 0.6043 - val_acc: 0.7627\n",
      "Epoch 4/30\n",
      "236767/236767 [==============================] - 94s 396us/step - loss: 0.5941 - acc: 0.7710 - val_loss: 0.6015 - val_acc: 0.7760\n",
      "Epoch 5/30\n",
      "236767/236767 [==============================] - 94s 399us/step - loss: 0.5775 - acc: 0.7780 - val_loss: 0.5581 - val_acc: 0.7897\n",
      "Epoch 6/30\n",
      "236767/236767 [==============================] - 96s 403us/step - loss: 0.5643 - acc: 0.7843 - val_loss: 0.5706 - val_acc: 0.7861\n",
      "Epoch 7/30\n",
      "236767/236767 [==============================] - 101s 427us/step - loss: 0.5565 - acc: 0.7878 - val_loss: 0.5765 - val_acc: 0.7802\n",
      "Epoch 8/30\n",
      "236767/236767 [==============================] - 96s 405us/step - loss: 0.5481 - acc: 0.7911 - val_loss: 0.5468 - val_acc: 0.8059\n",
      "Epoch 9/30\n",
      "236767/236767 [==============================] - 95s 401us/step - loss: 0.5427 - acc: 0.7946 - val_loss: 0.5383 - val_acc: 0.7967\n",
      "Epoch 10/30\n",
      "236767/236767 [==============================] - 96s 404us/step - loss: 0.5384 - acc: 0.7969 - val_loss: 0.5307 - val_acc: 0.8045\n",
      "Epoch 11/30\n",
      "236767/236767 [==============================] - 102s 429us/step - loss: 0.5351 - acc: 0.7980 - val_loss: 0.5101 - val_acc: 0.8096\n",
      "Epoch 12/30\n",
      "236767/236767 [==============================] - 95s 399us/step - loss: 0.5301 - acc: 0.7998 - val_loss: 0.5400 - val_acc: 0.7984\n",
      "Epoch 13/30\n",
      "236767/236767 [==============================] - 98s 416us/step - loss: 0.5266 - acc: 0.8020 - val_loss: 0.5646 - val_acc: 0.8016\n",
      "Epoch 14/30\n",
      "236767/236767 [==============================] - 94s 399us/step - loss: 0.5253 - acc: 0.8033 - val_loss: 0.5327 - val_acc: 0.8064\n",
      "Epoch 15/30\n",
      "236767/236767 [==============================] - 94s 395us/step - loss: 0.5241 - acc: 0.8027 - val_loss: 0.6049 - val_acc: 0.7844\n",
      "Epoch 16/30\n",
      "236767/236767 [==============================] - 102s 429us/step - loss: 0.5207 - acc: 0.8056 - val_loss: 0.5227 - val_acc: 0.8156\n",
      "Epoch 17/30\n",
      "236767/236767 [==============================] - 110s 466us/step - loss: 0.5202 - acc: 0.8051 - val_loss: 0.5360 - val_acc: 0.8055\n",
      "Epoch 18/30\n",
      "236767/236767 [==============================] - 115s 486us/step - loss: 0.5196 - acc: 0.8053 - val_loss: 0.5442 - val_acc: 0.8045\n",
      "Epoch 19/30\n",
      "236767/236767 [==============================] - 96s 405us/step - loss: 0.5178 - acc: 0.8060 - val_loss: 0.5212 - val_acc: 0.8112\n",
      "Epoch 20/30\n",
      "236767/236767 [==============================] - 95s 402us/step - loss: 0.5160 - acc: 0.8063 - val_loss: 0.5494 - val_acc: 0.8094\n",
      "Epoch 21/30\n",
      "236767/236767 [==============================] - 102s 429us/step - loss: 0.5141 - acc: 0.8076 - val_loss: 0.5205 - val_acc: 0.8145\n",
      "Epoch 22/30\n",
      "236767/236767 [==============================] - 97s 409us/step - loss: 0.5146 - acc: 0.8079 - val_loss: 0.5031 - val_acc: 0.8197\n",
      "Epoch 23/30\n",
      "236767/236767 [==============================] - 93s 394us/step - loss: 0.5146 - acc: 0.8071 - val_loss: 0.5165 - val_acc: 0.8111\n",
      "Epoch 24/30\n",
      "236767/236767 [==============================] - 94s 396us/step - loss: 0.5108 - acc: 0.8098 - val_loss: 0.5023 - val_acc: 0.8170\n",
      "Epoch 25/30\n",
      "236767/236767 [==============================] - 94s 396us/step - loss: 0.5088 - acc: 0.8100 - val_loss: 0.5377 - val_acc: 0.8163\n",
      "Epoch 26/30\n",
      "236767/236767 [==============================] - 94s 395us/step - loss: 0.5074 - acc: 0.8112 - val_loss: 0.5004 - val_acc: 0.8201\n",
      "Epoch 27/30\n",
      "236767/236767 [==============================] - 94s 396us/step - loss: 0.5096 - acc: 0.8105 - val_loss: 0.5233 - val_acc: 0.8211\n",
      "Epoch 28/30\n",
      "236767/236767 [==============================] - 94s 396us/step - loss: 0.5112 - acc: 0.8105 - val_loss: 0.5179 - val_acc: 0.8034\n",
      "Epoch 29/30\n",
      "236767/236767 [==============================] - 98s 414us/step - loss: 0.5086 - acc: 0.8111 - val_loss: 0.5168 - val_acc: 0.8183\n",
      "Epoch 30/30\n",
      "236767/236767 [==============================] - 99s 418us/step - loss: 0.5076 - acc: 0.8121 - val_loss: 0.4947 - val_acc: 0.8191\n",
      "Trained model is saved to E:/Mulong/Model/rico_compos/cnn1.h5\n"
     ]
    }
   ],
   "source": [
    "cnn.train(data, 30)"
   ]
  },
  {
   "cell_type": "code",
   "execution_count": 8,
   "metadata": {},
   "outputs": [
    {
     "name": "stdout",
     "output_type": "stream",
     "text": [
      "Model Loaded From E:/Mulong/Model/rico_compos/cnn1.h5\n",
      "[[15205  3774   984    80     1]\n",
      " [ 1973 17657   300    17     0]\n",
      " [ 1713   338 13738   203     0]\n",
      " [  538   206   581  1884     0]\n",
      " [    0     0     0     0     0]]\n",
      "\n",
      "TP:nan \t FN:0.334 \n",
      "FP:nan \t TN:0.800\n",
      "\n",
      "recall:nan \t precision:nan \t accuracy:nan \t balanced accuracy:nan\n"
     ]
    },
    {
     "name": "stderr",
     "output_type": "stream",
     "text": [
      "D:\\git_file\\github\\doing\\Research-ReverselyGeneratingWebCode\\code\\MODULE\\cnn\\CNN.py:50: RuntimeWarning: invalid value encountered in longlong_scalars\n",
      "  TP += matrix[i][i] / np.sum(matrix[i])\n",
      "D:\\git_file\\github\\doing\\Research-ReverselyGeneratingWebCode\\code\\MODULE\\cnn\\CNN.py:52: RuntimeWarning: invalid value encountered in longlong_scalars\n",
      "  FP += (np.sum(matrix[i]) - matrix[i][i]) / np.sum(matrix[i])\n"
     ]
    }
   ],
   "source": [
    "cnn.evaluate(data)"
   ]
  },
  {
   "cell_type": "code",
   "execution_count": null,
   "metadata": {},
   "outputs": [],
   "source": []
  }
 ],
 "metadata": {
  "kernelspec": {
   "display_name": "Python 3",
   "language": "python",
   "name": "python3"
  },
  "language_info": {
   "codemirror_mode": {
    "name": "ipython",
    "version": 3
   },
   "file_extension": ".py",
   "mimetype": "text/x-python",
   "name": "python",
   "nbconvert_exporter": "python",
   "pygments_lexer": "ipython3",
   "version": "3.5.6"
  }
 },
 "nbformat": 4,
 "nbformat_minor": 2
}
