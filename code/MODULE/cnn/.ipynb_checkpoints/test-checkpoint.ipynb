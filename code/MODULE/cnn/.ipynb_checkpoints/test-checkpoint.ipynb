{
 "cells": [
  {
   "cell_type": "code",
   "execution_count": 2,
   "metadata": {},
   "outputs": [
    {
     "name": "stderr",
     "output_type": "stream",
     "text": [
      "Using TensorFlow backend.\n"
     ]
    }
   ],
   "source": [
    "import cv2\n",
    "import numpy as np\n",
    "\n",
    "from MODEL import CNN\n",
    "from DATA import Data"
   ]
  },
  {
   "cell_type": "code",
   "execution_count": 3,
   "metadata": {},
   "outputs": [
    {
     "name": "stdout",
     "output_type": "stream",
     "text": [
      "8791 Data Loaded\n",
      "X_train:7032, Y_train:7032\n",
      "X_test:1759, Y_test:1759\n"
     ]
    }
   ],
   "source": [
    "data = Data()\n",
    "data.load_data(resize=True)\n",
    "data.generate_training_data()"
   ]
  },
  {
   "cell_type": "code",
   "execution_count": 5,
   "metadata": {},
   "outputs": [
    {
     "name": "stdout",
     "output_type": "stream",
     "text": [
      "Model Loaded From E:/Mulong/Model/ui_compos/cnn2.h5\n"
     ]
    }
   ],
   "source": [
    "model = CNN()\n",
    "matrix = model.evaluate(data)"
   ]
  },
  {
   "cell_type": "code",
   "execution_count": 23,
   "metadata": {},
   "outputs": [
    {
     "data": {
      "text/plain": [
       "array([[1137,   22,    3,    6,    2],\n",
       "       [  13,  236,    3,    0,    0],\n",
       "       [  14,    4,  132,    4,    0],\n",
       "       [   7,    0,    0,  136,    0],\n",
       "       [   4,    0,    0,    2,   34]], dtype=int64)"
      ]
     },
     "execution_count": 23,
     "metadata": {},
     "output_type": "execute_result"
    }
   ],
   "source": [
    "matrix"
   ]
  },
  {
   "cell_type": "code",
   "execution_count": 34,
   "metadata": {},
   "outputs": [],
   "source": [
    "def calculate_p_n(matrix):\n",
    "    TP, FN, FP, TN = 0, 0, 0, 0\n",
    "    for i in range(len(matrix)):\n",
    "        TP += matrix[i][i] / np.sum(matrix[i])\n",
    "        FN += (np.sum(matrix[:, i]) - matrix[i][i]) / np.sum(matrix[:, i])\n",
    "        FP += (np.sum(matrix[i]) - matrix[i][i]) / np.sum(matrix[i])\n",
    "        TN += (np.trace(matrix) - matrix[i][i]) / np.trace(matrix)\n",
    "    TP = TP/len(matrix)\n",
    "    FN = FN/len(matrix)\n",
    "    FP = FP/len(matrix)\n",
    "    TN = TN/len(matrix)\n",
    "    return [[TP, FN], [FP, TN]]"
   ]
  },
  {
   "cell_type": "code",
   "execution_count": 35,
   "metadata": {},
   "outputs": [
    {
     "name": "stdout",
     "output_type": "stream",
     "text": [
      "0.9132989232989231\n",
      "0.06233839285189817\n",
      "0.0867010767010767\n",
      "0.8\n"
     ]
    }
   ],
   "source": [
    "calculate_con_matrix(matrix)"
   ]
  },
  {
   "cell_type": "code",
   "execution_count": null,
   "metadata": {},
   "outputs": [],
   "source": []
  }
 ],
 "metadata": {
  "kernelspec": {
   "display_name": "Python 3",
   "language": "python",
   "name": "python3"
  },
  "language_info": {
   "codemirror_mode": {
    "name": "ipython",
    "version": 3
   },
   "file_extension": ".py",
   "mimetype": "text/x-python",
   "name": "python",
   "nbconvert_exporter": "python",
   "pygments_lexer": "ipython3",
   "version": "3.5.5"
  },
  "widgets": {
   "state": {},
   "version": "1.1.2"
  }
 },
 "nbformat": 4,
 "nbformat_minor": 2
}
