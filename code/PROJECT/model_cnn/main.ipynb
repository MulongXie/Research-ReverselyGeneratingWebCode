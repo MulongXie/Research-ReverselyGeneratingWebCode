{
 "cells": [
  {
   "cell_type": "code",
   "execution_count": 1,
   "metadata": {},
   "outputs": [
    {
     "name": "stderr",
     "output_type": "stream",
     "text": [
      "Using TensorFlow backend.\n"
     ]
    }
   ],
   "source": [
    "import sys\n",
    "sys.path.append('D:\\git_file\\github\\doing\\Research-ReverselyGeneratingWebCode\\code\\PROJECT\\model_cnn\\lib')\n",
    "\n",
    "from MODEL import CNN\n",
    "from DATA import Data"
   ]
  },
  {
   "cell_type": "code",
   "execution_count": 2,
   "metadata": {},
   "outputs": [],
   "source": [
    "data = Data()"
   ]
  },
  {
   "cell_type": "code",
   "execution_count": 3,
   "metadata": {},
   "outputs": [
    {
     "name": "stdout",
     "output_type": "stream",
     "text": [
      "{'button': 6604, 'input': 0, 'icon': 0, 'img': 0, 'text': 0}\n",
      "{'button': 6604, 'input': 0, 'icon': 3601, 'img': 0, 'text': 0}\n",
      "E:\\Mulong\\Datasets\\Components3\\img\\11924.png\n",
      "E:\\Mulong\\Datasets\\Components3\\img\\18395.png\n",
      "E:\\Mulong\\Datasets\\Components3\\img\\18396.png\n",
      "E:\\Mulong\\Datasets\\Components3\\img\\18397.png\n",
      "E:\\Mulong\\Datasets\\Components3\\img\\18399.png\n",
      "E:\\Mulong\\Datasets\\Components3\\img\\18599.png\n",
      "E:\\Mulong\\Datasets\\Components3\\img\\18600.png\n",
      "E:\\Mulong\\Datasets\\Components3\\img\\18601.png\n",
      "E:\\Mulong\\Datasets\\Components3\\img\\25733.png\n",
      "{'button': 6604, 'input': 0, 'icon': 3601, 'img': 29991, 'text': 0}\n",
      "{'button': 6604, 'input': 1632, 'icon': 3601, 'img': 29991, 'text': 0}\n",
      "{'button': 6604, 'input': 1632, 'icon': 3601, 'img': 29991, 'text': 16406}\n",
      "58234 Data Loaded with Shape:(80, 80)\n"
     ]
    }
   ],
   "source": [
    "data.load_data()"
   ]
  },
  {
   "cell_type": "code",
   "execution_count": 6,
   "metadata": {},
   "outputs": [
    {
     "name": "stdout",
     "output_type": "stream",
     "text": [
      "X_train:46587, Y_train:46587\n",
      "X_test:11647, Y_test:11647\n"
     ]
    }
   ],
   "source": [
    "data.generate_training_data()"
   ]
  },
  {
   "cell_type": "code",
   "execution_count": 7,
   "metadata": {},
   "outputs": [],
   "source": [
    "model = CNN()"
   ]
  },
  {
   "cell_type": "code",
   "execution_count": null,
   "metadata": {
    "scrolled": false
   },
   "outputs": [
    {
     "name": "stdout",
     "output_type": "stream",
     "text": [
      "Train on 46587 samples, validate on 11647 samples\n",
      "Epoch 1/20\n",
      "46587/46587 [==============================] - 113s 2ms/step - loss: 0.4295 - acc: 0.8577 - val_loss: 0.1827 - val_acc: 0.9418\n",
      "Epoch 2/20\n",
      "46587/46587 [==============================] - 96s 2ms/step - loss: 0.2002 - acc: 0.9386 - val_loss: 0.1934 - val_acc: 0.9342\n",
      "Epoch 3/20\n",
      "46587/46587 [==============================] - 97s 2ms/step - loss: 0.1634 - acc: 0.9493 - val_loss: 0.1323 - val_acc: 0.9554\n",
      "Epoch 4/20\n",
      "46587/46587 [==============================] - 96s 2ms/step - loss: 0.1363 - acc: 0.9578 - val_loss: 0.1281 - val_acc: 0.9603\n",
      "Epoch 5/20\n",
      "46587/46587 [==============================] - 96s 2ms/step - loss: 0.1211 - acc: 0.9619 - val_loss: 0.1275 - val_acc: 0.9612\n",
      "Epoch 6/20\n",
      "46587/46587 [==============================] - 96s 2ms/step - loss: 0.1057 - acc: 0.9663 - val_loss: 0.1345 - val_acc: 0.9605\n",
      "Epoch 7/20\n",
      "46587/46587 [==============================] - 96s 2ms/step - loss: 0.0942 - acc: 0.9695 - val_loss: 0.1353 - val_acc: 0.9647\n",
      "Epoch 8/20\n",
      "46587/46587 [==============================] - 96s 2ms/step - loss: 0.0849 - acc: 0.9729 - val_loss: 0.1256 - val_acc: 0.9654\n",
      "Epoch 9/20\n",
      "46587/46587 [==============================] - 96s 2ms/step - loss: 0.0770 - acc: 0.9757 - val_loss: 0.1256 - val_acc: 0.9653\n",
      "Epoch 10/20\n",
      "46587/46587 [==============================] - 95s 2ms/step - loss: 0.0700 - acc: 0.9778 - val_loss: 0.1836 - val_acc: 0.9526\n",
      "Epoch 11/20\n",
      "46587/46587 [==============================] - 95s 2ms/step - loss: 0.0661 - acc: 0.9791 - val_loss: 0.1298 - val_acc: 0.9651\n",
      "Epoch 12/20\n",
      " 8256/46587 [====>.........................] - ETA: 1:13 - loss: 0.0482 - acc: 0.9853"
     ]
    }
   ],
   "source": [
    "model.train(data)"
   ]
  },
  {
   "cell_type": "code",
   "execution_count": null,
   "metadata": {},
   "outputs": [],
   "source": [
    "model.evaluate(data)"
   ]
  },
  {
   "cell_type": "code",
   "execution_count": 6,
   "metadata": {},
   "outputs": [
    {
     "name": "stdout",
     "output_type": "stream",
     "text": [
      "Model Loaded From E:/Mulong/Model/ui_compos/cnn5_text.h5\n",
      "text\n",
      "text\n"
     ]
    }
   ],
   "source": [
    "model.predict(['89.png', '92.png'])"
   ]
  }
 ],
 "metadata": {
  "kernelspec": {
   "display_name": "Python 3",
   "language": "python",
   "name": "python3"
  },
  "language_info": {
   "codemirror_mode": {
    "name": "ipython",
    "version": 3
   },
   "file_extension": ".py",
   "mimetype": "text/x-python",
   "name": "python",
   "nbconvert_exporter": "python",
   "pygments_lexer": "ipython3",
   "version": "3.5.5"
  },
  "widgets": {
   "state": {},
   "version": "1.1.2"
  }
 },
 "nbformat": 4,
 "nbformat_minor": 1
}
