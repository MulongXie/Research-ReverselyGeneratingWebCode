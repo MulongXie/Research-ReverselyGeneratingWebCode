{
 "cells": [
  {
   "cell_type": "code",
   "execution_count": 1,
   "metadata": {},
   "outputs": [
    {
     "name": "stderr",
     "output_type": "stream",
     "text": [
      "Using TensorFlow backend.\n"
     ]
    }
   ],
   "source": [
    "import sys\n",
    "sys.path.append('D:\\git_file\\github\\doing\\Research-ReverselyGeneratingWebCode\\code\\PROJECT\\model_cnn\\lib')\n",
    "\n",
    "from MODEL import CNN\n",
    "from DATA import Data"
   ]
  },
  {
   "cell_type": "code",
   "execution_count": 2,
   "metadata": {},
   "outputs": [],
   "source": [
    "data = Data()"
   ]
  },
  {
   "cell_type": "code",
   "execution_count": 3,
   "metadata": {},
   "outputs": [
    {
     "name": "stdout",
     "output_type": "stream",
     "text": [
      "{'input': 0, 'text': 0, 'button': 6604, 'icon': 0, 'img': 0}\n",
      "{'input': 0, 'text': 0, 'button': 6604, 'icon': 3601, 'img': 0}\n",
      "E:\\Mulong\\Datasets\\dataset_webpage\\Components3\\img\\11924.png\n",
      "E:\\Mulong\\Datasets\\dataset_webpage\\Components3\\img\\18395.png\n",
      "E:\\Mulong\\Datasets\\dataset_webpage\\Components3\\img\\18396.png\n",
      "E:\\Mulong\\Datasets\\dataset_webpage\\Components3\\img\\18397.png\n",
      "E:\\Mulong\\Datasets\\dataset_webpage\\Components3\\img\\18399.png\n",
      "E:\\Mulong\\Datasets\\dataset_webpage\\Components3\\img\\18599.png\n",
      "E:\\Mulong\\Datasets\\dataset_webpage\\Components3\\img\\18600.png\n",
      "E:\\Mulong\\Datasets\\dataset_webpage\\Components3\\img\\18601.png\n",
      "E:\\Mulong\\Datasets\\dataset_webpage\\Components3\\img\\25733.png\n",
      "{'input': 0, 'text': 0, 'button': 6604, 'icon': 3601, 'img': 29991}\n",
      "{'input': 1632, 'text': 0, 'button': 6604, 'icon': 3601, 'img': 29991}\n",
      "{'input': 1632, 'text': 16406, 'button': 6604, 'icon': 3601, 'img': 29991}\n",
      "58234 Data Loaded with Shape:(64, 64)\n"
     ]
    }
   ],
   "source": [
    "data.load_data()"
   ]
  },
  {
   "cell_type": "code",
   "execution_count": 4,
   "metadata": {},
   "outputs": [
    {
     "name": "stdout",
     "output_type": "stream",
     "text": [
      "X_train:46587, Y_train:46587\n",
      "X_test:11647, Y_test:11647\n"
     ]
    }
   ],
   "source": [
    "data.generate_training_data()"
   ]
  },
  {
   "cell_type": "code",
   "execution_count": 5,
   "metadata": {},
   "outputs": [],
   "source": [
    "model = CNN()"
   ]
  },
  {
   "cell_type": "code",
   "execution_count": null,
   "metadata": {
    "scrolled": false
   },
   "outputs": [],
   "source": [
    "model.train(data)"
   ]
  },
  {
   "cell_type": "code",
   "execution_count": 6,
   "metadata": {},
   "outputs": [
    {
     "name": "stdout",
     "output_type": "stream",
     "text": [
      "Model Loaded From E:/Mulong/Model/ui_compos/cnn6_icon.h5\n",
      "[[1274    7    0   38    1]\n",
      " [   5  288    0    9    0]\n",
      " [  60    0  588   70    0]\n",
      " [  25    2    5 5917   15]\n",
      " [ 108    8    9  437 2781]]\n",
      "\n",
      "TP:0.912 \t FN:0.061 \n",
      "FP:0.088 \t TN:0.800\n",
      "\n",
      "recall:0.937 \t precision:0.912 \t accuracy:0.920 \t balanced accuracy:0.912\n"
     ]
    }
   ],
   "source": [
    "model.evaluate(data)"
   ]
  },
  {
   "cell_type": "code",
   "execution_count": 6,
   "metadata": {},
   "outputs": [
    {
     "name": "stdout",
     "output_type": "stream",
     "text": [
      "Model Loaded From E:/Mulong/Model/ui_compos/cnn5_text.h5\n",
      "text\n",
      "text\n"
     ]
    }
   ],
   "source": [
    "model.predict(['89.png', '92.png'])"
   ]
  }
 ],
 "metadata": {
  "kernelspec": {
   "display_name": "Python 3",
   "language": "python",
   "name": "python3"
  },
  "language_info": {
   "codemirror_mode": {
    "name": "ipython",
    "version": 3
   },
   "file_extension": ".py",
   "mimetype": "text/x-python",
   "name": "python",
   "nbconvert_exporter": "python",
   "pygments_lexer": "ipython3",
   "version": "3.5.5"
  },
  "widgets": {
   "state": {},
   "version": "1.1.2"
  }
 },
 "nbformat": 4,
 "nbformat_minor": 1
}
