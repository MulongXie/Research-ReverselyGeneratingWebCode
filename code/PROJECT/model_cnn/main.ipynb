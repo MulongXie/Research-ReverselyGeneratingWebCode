{
 "cells": [
  {
   "cell_type": "code",
   "execution_count": 4,
   "metadata": {},
   "outputs": [],
   "source": [
    "import sys\n",
    "sys.path.append('D:\\git_file\\github\\doing\\Research-ReverselyGeneratingWebCode\\code\\PROJECT\\model_cnn\\lib')\n",
    "\n",
    "from MODEL import CNN\n",
    "from DATA import Data"
   ]
  },
  {
   "cell_type": "code",
   "execution_count": 5,
   "metadata": {},
   "outputs": [],
   "source": [
    "data = Data()"
   ]
  },
  {
   "cell_type": "code",
   "execution_count": 6,
   "metadata": {},
   "outputs": [
    {
     "name": "stdout",
     "output_type": "stream",
     "text": [
      "{'text': 0, 'button': 7116, 'icon': 0, 'input': 0, 'img': 0}\n",
      "{'text': 0, 'button': 7116, 'icon': 3483, 'input': 0, 'img': 0}\n",
      "E:\\Mulong\\Datasets\\Components2\\img\\11924.png\n",
      "E:\\Mulong\\Datasets\\Components2\\img\\18395.png\n",
      "E:\\Mulong\\Datasets\\Components2\\img\\18396.png\n",
      "E:\\Mulong\\Datasets\\Components2\\img\\18397.png\n",
      "E:\\Mulong\\Datasets\\Components2\\img\\18399.png\n",
      "E:\\Mulong\\Datasets\\Components2\\img\\18599.png\n",
      "E:\\Mulong\\Datasets\\Components2\\img\\18600.png\n",
      "E:\\Mulong\\Datasets\\Components2\\img\\18601.png\n",
      "E:\\Mulong\\Datasets\\Components2\\img\\25733.png\n",
      "{'text': 0, 'button': 7116, 'icon': 3483, 'input': 0, 'img': 34991}\n",
      "{'text': 0, 'button': 7116, 'icon': 3483, 'input': 1632, 'img': 34991}\n",
      "{'text': 16323, 'button': 7116, 'icon': 3483, 'input': 1632, 'img': 34991}\n",
      "63545 Data Loaded\n"
     ]
    }
   ],
   "source": [
    "data.load_data()"
   ]
  },
  {
   "cell_type": "code",
   "execution_count": 7,
   "metadata": {},
   "outputs": [
    {
     "name": "stdout",
     "output_type": "stream",
     "text": [
      "X_train:50836, Y_train:50836\n",
      "X_test:12709, Y_test:12709\n"
     ]
    }
   ],
   "source": [
    "data.generate_training_data()"
   ]
  },
  {
   "cell_type": "code",
   "execution_count": 8,
   "metadata": {},
   "outputs": [],
   "source": [
    "model = CNN()"
   ]
  },
  {
   "cell_type": "code",
   "execution_count": 9,
   "metadata": {},
   "outputs": [
    {
     "name": "stdout",
     "output_type": "stream",
     "text": [
      "Train on 50836 samples, validate on 12709 samples\n",
      "Epoch 1/20\n",
      "50836/50836 [==============================] - 78s 2ms/step - loss: 0.4183 - acc: 0.8625 - val_loss: 0.1941 - val_acc: 0.9374\n",
      "Epoch 2/20\n",
      "50836/50836 [==============================] - 68s 1ms/step - loss: 0.1849 - acc: 0.9424 - val_loss: 0.1821 - val_acc: 0.9365\n",
      "Epoch 3/20\n",
      "50836/50836 [==============================] - 68s 1ms/step - loss: 0.1497 - acc: 0.9524 - val_loss: 0.1867 - val_acc: 0.9339\n",
      "Epoch 4/20\n",
      "50836/50836 [==============================] - 69s 1ms/step - loss: 0.1327 - acc: 0.9585 - val_loss: 0.1843 - val_acc: 0.9367\n",
      "Epoch 5/20\n",
      "50836/50836 [==============================] - 68s 1ms/step - loss: 0.1199 - acc: 0.9636 - val_loss: 0.1419 - val_acc: 0.9570\n",
      "Epoch 6/20\n",
      "50836/50836 [==============================] - 68s 1ms/step - loss: 0.1058 - acc: 0.9673 - val_loss: 0.1271 - val_acc: 0.9617\n",
      "Epoch 7/20\n",
      "50836/50836 [==============================] - 68s 1ms/step - loss: 0.0952 - acc: 0.9697 - val_loss: 0.1261 - val_acc: 0.9656\n",
      "Epoch 8/20\n",
      "50836/50836 [==============================] - 68s 1ms/step - loss: 0.0846 - acc: 0.9733 - val_loss: 0.1290 - val_acc: 0.9683\n",
      "Epoch 9/20\n",
      "50836/50836 [==============================] - 68s 1ms/step - loss: 0.0774 - acc: 0.9746 - val_loss: 0.1153 - val_acc: 0.9699\n",
      "Epoch 10/20\n",
      "50836/50836 [==============================] - 68s 1ms/step - loss: 0.0694 - acc: 0.9782 - val_loss: 0.1147 - val_acc: 0.9682\n",
      "Epoch 11/20\n",
      "50836/50836 [==============================] - 68s 1ms/step - loss: 0.0642 - acc: 0.9788 - val_loss: 0.1169 - val_acc: 0.9714\n",
      "Epoch 12/20\n",
      "50836/50836 [==============================] - 68s 1ms/step - loss: 0.0590 - acc: 0.9805 - val_loss: 0.1171 - val_acc: 0.9707\n",
      "Epoch 13/20\n",
      "50836/50836 [==============================] - 68s 1ms/step - loss: 0.0566 - acc: 0.9821 - val_loss: 0.1344 - val_acc: 0.9702\n",
      "Epoch 14/20\n",
      "50836/50836 [==============================] - 68s 1ms/step - loss: 0.0504 - acc: 0.9834 - val_loss: 0.1283 - val_acc: 0.9681\n",
      "Epoch 15/20\n",
      "50836/50836 [==============================] - 68s 1ms/step - loss: 0.0464 - acc: 0.9845 - val_loss: 0.1386 - val_acc: 0.9713\n",
      "Epoch 16/20\n",
      "50836/50836 [==============================] - 68s 1ms/step - loss: 0.0421 - acc: 0.9860 - val_loss: 0.1417 - val_acc: 0.9725\n",
      "Epoch 17/20\n",
      "50836/50836 [==============================] - 68s 1ms/step - loss: 0.0401 - acc: 0.9875 - val_loss: 0.1580 - val_acc: 0.9714\n",
      "Epoch 18/20\n",
      "50836/50836 [==============================] - 68s 1ms/step - loss: 0.0395 - acc: 0.9877 - val_loss: 0.1485 - val_acc: 0.9714\n",
      "Epoch 19/20\n",
      "50836/50836 [==============================] - 68s 1ms/step - loss: 0.0363 - acc: 0.9884 - val_loss: 0.1498 - val_acc: 0.9703\n",
      "Epoch 20/20\n",
      "50836/50836 [==============================] - 68s 1ms/step - loss: 0.0375 - acc: 0.9882 - val_loss: 0.1633 - val_acc: 0.9719\n",
      "Trained model is saved to E:/Mulong/Model/ui_compos/cnn8.h5\n"
     ]
    }
   ],
   "source": [
    "model.train(data)"
   ]
  },
  {
   "cell_type": "code",
   "execution_count": 10,
   "metadata": {},
   "outputs": [
    {
     "name": "stdout",
     "output_type": "stream",
     "text": [
      "Model Loaded From E:/Mulong/Model/ui_compos/cnn8.h5\n",
      "[[1322   29   13   33   13]\n",
      " [  21  296    0    5    2]\n",
      " [  13    0  701    4    2]\n",
      " [  46   10   12 6789   90]\n",
      " [  13    0    6   45 3244]]\n",
      "\n",
      "TP:0.957 \t FN:0.054 \n",
      "FP:0.043 \t TN:0.800\n",
      "\n",
      "recall:0.947 \t precision:0.957 \t accuracy:0.948 \t balanced accuracy:0.957\n"
     ]
    }
   ],
   "source": [
    "model.evaluate(data)"
   ]
  },
  {
   "cell_type": "code",
   "execution_count": 6,
   "metadata": {},
   "outputs": [
    {
     "name": "stdout",
     "output_type": "stream",
     "text": [
      "Model Loaded From E:/Mulong/Model/ui_compos/cnn5_text.h5\n",
      "text\n",
      "text\n"
     ]
    }
   ],
   "source": [
    "model.predict(['89.png', '92.png'])"
   ]
  }
 ],
 "metadata": {
  "kernelspec": {
   "display_name": "Python 3",
   "language": "python",
   "name": "python3"
  },
  "language_info": {
   "codemirror_mode": {
    "name": "ipython",
    "version": 3
   },
   "file_extension": ".py",
   "mimetype": "text/x-python",
   "name": "python",
   "nbconvert_exporter": "python",
   "pygments_lexer": "ipython3",
   "version": "3.5.5"
  },
  "widgets": {
   "state": {},
   "version": "1.1.2"
  }
 },
 "nbformat": 4,
 "nbformat_minor": 1
}
