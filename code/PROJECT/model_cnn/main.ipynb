{
 "cells": [
  {
   "cell_type": "code",
   "execution_count": 1,
   "metadata": {},
   "outputs": [
    {
     "name": "stderr",
     "output_type": "stream",
     "text": [
      "Using TensorFlow backend.\n"
     ]
    }
   ],
   "source": [
    "import sys\n",
    "sys.path.append('D:\\git_file\\github\\doing\\Research-ReverselyGeneratingWebCode\\code\\PROJECT\\model_cnn\\lib')\n",
    "\n",
    "from MODEL import CNN\n",
    "from DATA import Data"
   ]
  },
  {
   "cell_type": "code",
   "execution_count": 2,
   "metadata": {},
   "outputs": [],
   "source": [
    "data = Data()"
   ]
  },
  {
   "cell_type": "code",
   "execution_count": 3,
   "metadata": {},
   "outputs": [
    {
     "name": "stdout",
     "output_type": "stream",
     "text": [
      "{'search': 0, 'list': 0, 'text': 0, 'select': 0, 'button': 6221, 'input': 0, 'img': 0}\n",
      "E:/Mulong/Datasets/dataset_webpage/elements\\img\\20515.png\n",
      "E:/Mulong/Datasets/dataset_webpage/elements\\img\\30106.png\n",
      "{'search': 0, 'list': 0, 'text': 0, 'select': 0, 'button': 6221, 'input': 0, 'img': 24998}\n",
      "{'search': 0, 'list': 0, 'text': 0, 'select': 0, 'button': 6221, 'input': 1334, 'img': 24998}\n",
      "{'search': 0, 'list': 204, 'text': 0, 'select': 0, 'button': 6221, 'input': 1334, 'img': 24998}\n",
      "{'search': 686, 'list': 204, 'text': 0, 'select': 0, 'button': 6221, 'input': 1334, 'img': 24998}\n",
      "{'search': 686, 'list': 204, 'text': 0, 'select': 747, 'button': 6221, 'input': 1334, 'img': 24998}\n",
      "{'search': 686, 'list': 204, 'text': 3470, 'select': 747, 'button': 6221, 'input': 1334, 'img': 24998}\n",
      "37660 Data Loaded\n"
     ]
    }
   ],
   "source": [
    "data.load_data()"
   ]
  },
  {
   "cell_type": "code",
   "execution_count": 4,
   "metadata": {},
   "outputs": [
    {
     "name": "stdout",
     "output_type": "stream",
     "text": [
      "X_train:30128, Y_train:30128\n",
      "X_test:7532, Y_test:7532\n"
     ]
    }
   ],
   "source": [
    "data.generate_training_data()"
   ]
  },
  {
   "cell_type": "code",
   "execution_count": 5,
   "metadata": {},
   "outputs": [],
   "source": [
    "model = CNN()"
   ]
  },
  {
   "cell_type": "code",
   "execution_count": 6,
   "metadata": {},
   "outputs": [
    {
     "name": "stdout",
     "output_type": "stream",
     "text": [
      "Train on 30128 samples, validate on 7532 samples\n",
      "Epoch 1/20\n",
      "30128/30128 [==============================] - 47s 2ms/step - loss: 0.5397 - acc: 0.8347 - val_loss: 0.2613 - val_acc: 0.9183\n",
      "Epoch 2/20\n",
      "30128/30128 [==============================] - 41s 1ms/step - loss: 0.2377 - acc: 0.9262 - val_loss: 0.1892 - val_acc: 0.9424\n",
      "Epoch 3/20\n",
      "30128/30128 [==============================] - 40s 1ms/step - loss: 0.1895 - acc: 0.9397 - val_loss: 0.1934 - val_acc: 0.9364\n",
      "Epoch 4/20\n",
      "30128/30128 [==============================] - 40s 1ms/step - loss: 0.1620 - acc: 0.9500 - val_loss: 0.1644 - val_acc: 0.9497\n",
      "Epoch 5/20\n",
      "30128/30128 [==============================] - 40s 1ms/step - loss: 0.1399 - acc: 0.9554 - val_loss: 0.1605 - val_acc: 0.9490\n",
      "Epoch 6/20\n",
      "30128/30128 [==============================] - 41s 1ms/step - loss: 0.1237 - acc: 0.9611 - val_loss: 0.1718 - val_acc: 0.9519\n",
      "Epoch 7/20\n",
      "30128/30128 [==============================] - 40s 1ms/step - loss: 0.1060 - acc: 0.9673 - val_loss: 0.1715 - val_acc: 0.9558\n",
      "Epoch 8/20\n",
      "30128/30128 [==============================] - 41s 1ms/step - loss: 0.0968 - acc: 0.9693 - val_loss: 0.1782 - val_acc: 0.9550\n",
      "Epoch 9/20\n",
      "30128/30128 [==============================] - 42s 1ms/step - loss: 0.0887 - acc: 0.9716 - val_loss: 0.1686 - val_acc: 0.9565\n",
      "Epoch 10/20\n",
      "30128/30128 [==============================] - 41s 1ms/step - loss: 0.0774 - acc: 0.9746 - val_loss: 0.1770 - val_acc: 0.9557\n",
      "Epoch 11/20\n",
      "30128/30128 [==============================] - 41s 1ms/step - loss: 0.0693 - acc: 0.9770 - val_loss: 0.1954 - val_acc: 0.9562\n",
      "Epoch 12/20\n",
      "30128/30128 [==============================] - 43s 1ms/step - loss: 0.0605 - acc: 0.9790 - val_loss: 0.1976 - val_acc: 0.9575\n",
      "Epoch 13/20\n",
      "30128/30128 [==============================] - 41s 1ms/step - loss: 0.0585 - acc: 0.9808 - val_loss: 0.1846 - val_acc: 0.9586\n",
      "Epoch 14/20\n",
      "30128/30128 [==============================] - 41s 1ms/step - loss: 0.0524 - acc: 0.9827 - val_loss: 0.1899 - val_acc: 0.9555\n",
      "Epoch 15/20\n",
      "30128/30128 [==============================] - 41s 1ms/step - loss: 0.0472 - acc: 0.9835 - val_loss: 0.2051 - val_acc: 0.9537\n",
      "Epoch 16/20\n",
      "30128/30128 [==============================] - 41s 1ms/step - loss: 0.0446 - acc: 0.9848 - val_loss: 0.2084 - val_acc: 0.9579\n",
      "Epoch 17/20\n",
      "30128/30128 [==============================] - 41s 1ms/step - loss: 0.0433 - acc: 0.9855 - val_loss: 0.2077 - val_acc: 0.9616\n",
      "Epoch 18/20\n",
      "30128/30128 [==============================] - 41s 1ms/step - loss: 0.0393 - acc: 0.9869 - val_loss: 0.1998 - val_acc: 0.9603\n",
      "Epoch 19/20\n",
      "30128/30128 [==============================] - 41s 1ms/step - loss: 0.0351 - acc: 0.9887 - val_loss: 0.2186 - val_acc: 0.9606\n",
      "Epoch 20/20\n",
      "30128/30128 [==============================] - 41s 1ms/step - loss: 0.0357 - acc: 0.9882 - val_loss: 0.2118 - val_acc: 0.9596\n",
      "Trained model is saved to E:/Mulong/Model/ui_compos/cnn5_text.h5\n"
     ]
    }
   ],
   "source": [
    "model.train(data)"
   ]
  },
  {
   "cell_type": "code",
   "execution_count": 8,
   "metadata": {},
   "outputs": [
    {
     "name": "stdout",
     "output_type": "stream",
     "text": [
      "Model Loaded From E:/Mulong/Model/ui_compos/cnn5_text.h5\n",
      "[[1163   19    2    5    3   37    2]\n",
      " [  22  229    0    0    0    6    0]\n",
      " [   6    3  144    1    0    2    3]\n",
      " [   4    1    1  131    1    3    1]\n",
      " [   0    0    0    1   42    3    1]\n",
      " [  34   10    1    2    0 4866   51]\n",
      " [   7    0    2    0    0   70  653]]\n",
      "\n",
      "TP:0.919 \t FN:0.069 \n",
      "FP:0.081 \t TN:0.857\n",
      "\n",
      "recall:0.930 \t precision:0.919 \t accuracy:0.922 \t balanced accuracy:0.919\n"
     ]
    }
   ],
   "source": [
    "model.evaluate(data)"
   ]
  },
  {
   "cell_type": "code",
   "execution_count": 6,
   "metadata": {},
   "outputs": [
    {
     "name": "stdout",
     "output_type": "stream",
     "text": [
      "Model Loaded From E:/Mulong/Model/ui_compos/cnn5_text.h5\n",
      "text\n",
      "text\n"
     ]
    }
   ],
   "source": [
    "model.predict(['89.png', '92.png'])"
   ]
  }
 ],
 "metadata": {
  "kernelspec": {
   "display_name": "Python 3",
   "language": "python",
   "name": "python3"
  },
  "language_info": {
   "codemirror_mode": {
    "name": "ipython",
    "version": 3
   },
   "file_extension": ".py",
   "mimetype": "text/x-python",
   "name": "python",
   "nbconvert_exporter": "python",
   "pygments_lexer": "ipython3",
   "version": "3.5.5"
  },
  "widgets": {
   "state": {},
   "version": "1.1.2"
  }
 },
 "nbformat": 4,
 "nbformat_minor": 1
}
