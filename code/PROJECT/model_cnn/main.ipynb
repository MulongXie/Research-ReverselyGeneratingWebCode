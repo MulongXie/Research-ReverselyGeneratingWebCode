{
 "cells": [
  {
   "cell_type": "code",
   "execution_count": 1,
   "metadata": {},
   "outputs": [
    {
     "name": "stderr",
     "output_type": "stream",
     "text": [
      "Using TensorFlow backend.\n"
     ]
    }
   ],
   "source": [
    "import sys\n",
    "sys.path.append('D:\\git_file\\github\\doing\\Research-ReverselyGeneratingWebCode\\code\\PROJECT\\model_cnn\\lib')\n",
    "\n",
    "from MODEL import CNN\n",
    "from DATA import Data"
   ]
  },
  {
   "cell_type": "code",
   "execution_count": 2,
   "metadata": {},
   "outputs": [],
   "source": [
    "data = Data()"
   ]
  },
  {
   "cell_type": "code",
   "execution_count": 3,
   "metadata": {},
   "outputs": [
    {
     "name": "stdout",
     "output_type": "stream",
     "text": [
      "{'input': 0, 'img': 0, 'text': 0, 'button': 6604, 'icon': 0}\n",
      "{'input': 0, 'img': 0, 'text': 0, 'button': 6604, 'icon': 3601}\n",
      "E:\\Mulong\\Datasets\\Components3\\img\\11924.png\n",
      "E:\\Mulong\\Datasets\\Components3\\img\\18395.png\n",
      "E:\\Mulong\\Datasets\\Components3\\img\\18396.png\n",
      "E:\\Mulong\\Datasets\\Components3\\img\\18397.png\n",
      "E:\\Mulong\\Datasets\\Components3\\img\\18399.png\n",
      "E:\\Mulong\\Datasets\\Components3\\img\\18599.png\n",
      "E:\\Mulong\\Datasets\\Components3\\img\\18600.png\n",
      "E:\\Mulong\\Datasets\\Components3\\img\\18601.png\n",
      "E:\\Mulong\\Datasets\\Components3\\img\\25733.png\n",
      "{'input': 0, 'img': 29991, 'text': 0, 'button': 6604, 'icon': 3601}\n",
      "{'input': 1632, 'img': 29991, 'text': 0, 'button': 6604, 'icon': 3601}\n",
      "{'input': 1632, 'img': 29991, 'text': 16400, 'button': 6604, 'icon': 3601}\n",
      "58228 Data Loaded\n"
     ]
    }
   ],
   "source": [
    "data.load_data()"
   ]
  },
  {
   "cell_type": "code",
   "execution_count": 5,
   "metadata": {},
   "outputs": [
    {
     "name": "stdout",
     "output_type": "stream",
     "text": [
      "X_train:46582, Y_train:46582\n",
      "X_test:11646, Y_test:11646\n"
     ]
    }
   ],
   "source": [
    "data.generate_training_data()"
   ]
  },
  {
   "cell_type": "code",
   "execution_count": 4,
   "metadata": {},
   "outputs": [],
   "source": [
    "model = CNN()"
   ]
  },
  {
   "cell_type": "code",
   "execution_count": 6,
   "metadata": {
    "scrolled": true
   },
   "outputs": [
    {
     "name": "stdout",
     "output_type": "stream",
     "text": [
      "Train on 46582 samples, validate on 11646 samples\n",
      "Epoch 1/20\n",
      "46582/46582 [==============================] - 73s 2ms/step - loss: 0.4564 - acc: 0.8503 - val_loss: 0.2030 - val_acc: 0.9356\n",
      "Epoch 2/20\n",
      "46582/46582 [==============================] - 66s 1ms/step - loss: 0.2055 - acc: 0.9365 - val_loss: 0.1460 - val_acc: 0.9551\n",
      "Epoch 3/20\n",
      "46582/46582 [==============================] - 66s 1ms/step - loss: 0.1650 - acc: 0.9484 - val_loss: 0.1384 - val_acc: 0.9578\n",
      "Epoch 4/20\n",
      "46582/46582 [==============================] - 64s 1ms/step - loss: 0.1422 - acc: 0.9558 - val_loss: 0.1211 - val_acc: 0.9635\n",
      "Epoch 5/20\n",
      "46582/46582 [==============================] - 68s 1ms/step - loss: 0.1255 - acc: 0.9598 - val_loss: 0.1134 - val_acc: 0.9660\n",
      "Epoch 6/20\n",
      "46582/46582 [==============================] - 65s 1ms/step - loss: 0.1112 - acc: 0.9649 - val_loss: 0.1127 - val_acc: 0.9674\n",
      "Epoch 7/20\n",
      "46582/46582 [==============================] - 64s 1ms/step - loss: 0.0965 - acc: 0.9687 - val_loss: 0.1108 - val_acc: 0.9666\n",
      "Epoch 8/20\n",
      "46582/46582 [==============================] - 64s 1ms/step - loss: 0.0891 - acc: 0.9716 - val_loss: 0.1140 - val_acc: 0.9675\n",
      "Epoch 9/20\n",
      "46582/46582 [==============================] - 64s 1ms/step - loss: 0.0790 - acc: 0.9749 - val_loss: 0.1098 - val_acc: 0.9699\n",
      "Epoch 10/20\n",
      "46582/46582 [==============================] - 64s 1ms/step - loss: 0.0723 - acc: 0.9772 - val_loss: 0.1108 - val_acc: 0.9685\n",
      "Epoch 11/20\n",
      "46582/46582 [==============================] - 64s 1ms/step - loss: 0.0673 - acc: 0.9786 - val_loss: 0.1241 - val_acc: 0.9693\n",
      "Epoch 12/20\n",
      "46582/46582 [==============================] - 64s 1ms/step - loss: 0.0627 - acc: 0.9805 - val_loss: 0.1276 - val_acc: 0.9696\n",
      "Epoch 13/20\n",
      "46582/46582 [==============================] - 64s 1ms/step - loss: 0.0573 - acc: 0.9816 - val_loss: 0.1263 - val_acc: 0.9700\n",
      "Epoch 14/20\n",
      "46582/46582 [==============================] - 64s 1ms/step - loss: 0.0534 - acc: 0.9835 - val_loss: 0.1338 - val_acc: 0.9700\n",
      "Epoch 15/20\n",
      "46582/46582 [==============================] - 64s 1ms/step - loss: 0.0514 - acc: 0.9834 - val_loss: 0.1433 - val_acc: 0.9702\n",
      "Epoch 16/20\n",
      "46582/46582 [==============================] - 64s 1ms/step - loss: 0.0466 - acc: 0.9843 - val_loss: 0.1521 - val_acc: 0.9685\n",
      "Epoch 17/20\n",
      "46582/46582 [==============================] - 64s 1ms/step - loss: 0.0430 - acc: 0.9860 - val_loss: 0.1367 - val_acc: 0.9709\n",
      "Epoch 18/20\n",
      "46582/46582 [==============================] - 64s 1ms/step - loss: 0.0398 - acc: 0.9874 - val_loss: 0.1386 - val_acc: 0.9716\n",
      "Epoch 19/20\n",
      "46582/46582 [==============================] - 64s 1ms/step - loss: 0.0386 - acc: 0.9875 - val_loss: 0.1661 - val_acc: 0.9694\n",
      "Epoch 20/20\n",
      "46582/46582 [==============================] - 66s 1ms/step - loss: 0.0366 - acc: 0.9883 - val_loss: 0.1621 - val_acc: 0.9711\n",
      "Trained model is saved to E:/Mulong/Model/ui_compos/cnn8.h5\n"
     ]
    }
   ],
   "source": [
    "model.train(data)"
   ]
  },
  {
   "cell_type": "code",
   "execution_count": 7,
   "metadata": {},
   "outputs": [
    {
     "name": "stdout",
     "output_type": "stream",
     "text": [
      "Model Loaded From E:/Mulong/Model/ui_compos/cnn8.h5\n",
      "[[1238   26    8   26   22]\n",
      " [  17  278    0    3    4]\n",
      " [  15    0  683    9   10]\n",
      " [  36    2   23 5833   70]\n",
      " [  17    0   12   36 3278]]\n",
      "\n",
      "TP:0.954 \t FN:0.052 \n",
      "FP:0.046 \t TN:0.800\n",
      "\n",
      "recall:0.949 \t precision:0.954 \t accuracy:0.947 \t balanced accuracy:0.954\n"
     ]
    }
   ],
   "source": [
    "model.evaluate(data)"
   ]
  },
  {
   "cell_type": "code",
   "execution_count": 6,
   "metadata": {},
   "outputs": [
    {
     "name": "stdout",
     "output_type": "stream",
     "text": [
      "Model Loaded From E:/Mulong/Model/ui_compos/cnn5_text.h5\n",
      "text\n",
      "text\n"
     ]
    }
   ],
   "source": [
    "model.predict(['89.png', '92.png'])"
   ]
  }
 ],
 "metadata": {
  "kernelspec": {
   "display_name": "Python 3",
   "language": "python",
   "name": "python3"
  },
  "language_info": {
   "codemirror_mode": {
    "name": "ipython",
    "version": 3
   },
   "file_extension": ".py",
   "mimetype": "text/x-python",
   "name": "python",
   "nbconvert_exporter": "python",
   "pygments_lexer": "ipython3",
   "version": "3.5.5"
  },
  "widgets": {
   "state": {},
   "version": "1.1.2"
  }
 },
 "nbformat": 4,
 "nbformat_minor": 1
}
