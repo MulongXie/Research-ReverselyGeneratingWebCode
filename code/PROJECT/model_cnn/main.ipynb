{
 "cells": [
  {
   "cell_type": "code",
   "execution_count": 6,
   "metadata": {},
   "outputs": [],
   "source": [
    "import sys\n",
    "sys.path.append('D:\\git_file\\github\\doing\\Research-ReverselyGeneratingWebCode\\code\\PROJECT\\model_cnn\\lib')\n",
    "\n",
    "from MODEL import CNN\n",
    "from DATA import Data"
   ]
  },
  {
   "cell_type": "code",
   "execution_count": 2,
   "metadata": {},
   "outputs": [],
   "source": [
    "data = Data()"
   ]
  },
  {
   "cell_type": "code",
   "execution_count": 3,
   "metadata": {},
   "outputs": [
    {
     "name": "stdout",
     "output_type": "stream",
     "text": [
      "{'input': 0, 'select': 0, 'search': 0, 'img': 0, 'list': 0, 'button': 5918}\n",
      "E:/Mulong/Datasets/dataset_webpage/elements\\img\\20515.png\n",
      "E:/Mulong/Datasets/dataset_webpage/elements\\img\\23978.png\n",
      "E:/Mulong/Datasets/dataset_webpage/elements\\img\\23979.png\n",
      "{'input': 0, 'select': 0, 'search': 0, 'img': 19997, 'list': 0, 'button': 5918}\n",
      "{'input': 1241, 'select': 0, 'search': 0, 'img': 19997, 'list': 0, 'button': 5918}\n",
      "{'input': 1241, 'select': 0, 'search': 0, 'img': 19997, 'list': 201, 'button': 5918}\n",
      "{'input': 1241, 'select': 0, 'search': 684, 'img': 19997, 'list': 201, 'button': 5918}\n",
      "{'input': 1241, 'select': 747, 'search': 684, 'img': 19997, 'list': 201, 'button': 5918}\n",
      "28788 Data Loaded\n"
     ]
    }
   ],
   "source": [
    "data.load_data()"
   ]
  },
  {
   "cell_type": "code",
   "execution_count": 4,
   "metadata": {},
   "outputs": [
    {
     "name": "stdout",
     "output_type": "stream",
     "text": [
      "X_train:23030, Y_train:23030\n",
      "X_test:5758, Y_test:5758\n"
     ]
    }
   ],
   "source": [
    "data.generate_training_data()"
   ]
  },
  {
   "cell_type": "code",
   "execution_count": 5,
   "metadata": {},
   "outputs": [],
   "source": [
    "model = CNN()"
   ]
  },
  {
   "cell_type": "code",
   "execution_count": 7,
   "metadata": {},
   "outputs": [
    {
     "name": "stdout",
     "output_type": "stream",
     "text": [
      "Train on 23030 samples, validate on 5758 samples\n",
      "Epoch 1/20\n",
      "23030/23030 [==============================] - 37s 2ms/step - loss: 0.4926 - acc: 0.8559 - val_loss: 0.2069 - val_acc: 0.9416\n",
      "Epoch 2/20\n",
      "23030/23030 [==============================] - 31s 1ms/step - loss: 0.2097 - acc: 0.9388 - val_loss: 0.6219 - val_acc: 0.8345\n",
      "Epoch 3/20\n",
      "23030/23030 [==============================] - 31s 1ms/step - loss: 0.1674 - acc: 0.9514 - val_loss: 0.1354 - val_acc: 0.9614\n",
      "Epoch 4/20\n",
      "23030/23030 [==============================] - 31s 1ms/step - loss: 0.1407 - acc: 0.9604 - val_loss: 0.1295 - val_acc: 0.9646\n",
      "Epoch 5/20\n",
      "23030/23030 [==============================] - 31s 1ms/step - loss: 0.1204 - acc: 0.9642 - val_loss: 0.1322 - val_acc: 0.9618\n",
      "Epoch 6/20\n",
      "23030/23030 [==============================] - 31s 1ms/step - loss: 0.1099 - acc: 0.9683 - val_loss: 0.4761 - val_acc: 0.8883\n",
      "Epoch 7/20\n",
      "23030/23030 [==============================] - 31s 1ms/step - loss: 0.0947 - acc: 0.9730 - val_loss: 0.1166 - val_acc: 0.9667\n",
      "Epoch 8/20\n",
      "23030/23030 [==============================] - 31s 1ms/step - loss: 0.0847 - acc: 0.9753 - val_loss: 0.1211 - val_acc: 0.9665\n",
      "Epoch 9/20\n",
      "23030/23030 [==============================] - 31s 1ms/step - loss: 0.0738 - acc: 0.9779 - val_loss: 0.1484 - val_acc: 0.9576\n",
      "Epoch 10/20\n",
      "23030/23030 [==============================] - 31s 1ms/step - loss: 0.0672 - acc: 0.9793 - val_loss: 0.1166 - val_acc: 0.9703\n",
      "Epoch 11/20\n",
      "23030/23030 [==============================] - 31s 1ms/step - loss: 0.0609 - acc: 0.9812 - val_loss: 0.1354 - val_acc: 0.9687\n",
      "Epoch 12/20\n",
      "23030/23030 [==============================] - 31s 1ms/step - loss: 0.0560 - acc: 0.9837 - val_loss: 0.1188 - val_acc: 0.9696\n",
      "Epoch 13/20\n",
      "23030/23030 [==============================] - 31s 1ms/step - loss: 0.0475 - acc: 0.9849 - val_loss: 0.1307 - val_acc: 0.9689\n",
      "Epoch 14/20\n",
      "23030/23030 [==============================] - 31s 1ms/step - loss: 0.0461 - acc: 0.9857 - val_loss: 0.1382 - val_acc: 0.9700\n",
      "Epoch 15/20\n",
      "23030/23030 [==============================] - 31s 1ms/step - loss: 0.0420 - acc: 0.9885 - val_loss: 0.1310 - val_acc: 0.9708\n",
      "Epoch 16/20\n",
      "23030/23030 [==============================] - 31s 1ms/step - loss: 0.0363 - acc: 0.9891 - val_loss: 0.1614 - val_acc: 0.9713\n",
      "Epoch 17/20\n",
      "23030/23030 [==============================] - 31s 1ms/step - loss: 0.0370 - acc: 0.9889 - val_loss: 0.1530 - val_acc: 0.9703\n",
      "Epoch 18/20\n",
      "23030/23030 [==============================] - 31s 1ms/step - loss: 0.0311 - acc: 0.9904 - val_loss: 0.1415 - val_acc: 0.9715\n",
      "Epoch 19/20\n",
      "23030/23030 [==============================] - 31s 1ms/step - loss: 0.0303 - acc: 0.9908 - val_loss: 0.1542 - val_acc: 0.9724\n",
      "Epoch 20/20\n",
      "23030/23030 [==============================] - 31s 1ms/step - loss: 0.0269 - acc: 0.9914 - val_loss: 0.1832 - val_acc: 0.9694\n",
      "Trained model is saved to E:/Mulong/Model/ui_compos/cnn3_img.h5\n"
     ]
    }
   ],
   "source": [
    "model.train(data)"
   ]
  },
  {
   "cell_type": "code",
   "execution_count": 9,
   "metadata": {},
   "outputs": [
    {
     "name": "stdout",
     "output_type": "stream",
     "text": [
      "Model Loaded From E:/Mulong/Model/ui_compos/cnn3_img.h5\n",
      "[[1154   15    2    8    0   43]\n",
      " [  12  244    0    0    0    1]\n",
      " [  11    6  150    0    1    1]\n",
      " [   3    0    1  133    1    1]\n",
      " [   2    0    0    1   33    3]\n",
      " [  58    3    1    2    0 3868]]\n",
      "\n",
      "TP:0.928 \t FN:0.055 \n",
      "FP:0.072 \t TN:0.833\n",
      "\n",
      "recall:0.944 \t precision:0.928 \t accuracy:0.933 \t balanced accuracy:0.928\n"
     ]
    }
   ],
   "source": [
    "model.evaluate(data)"
   ]
  }
 ],
 "metadata": {
  "kernelspec": {
   "display_name": "Python 3",
   "language": "python",
   "name": "python3"
  },
  "language_info": {
   "codemirror_mode": {
    "name": "ipython",
    "version": 3
   },
   "file_extension": ".py",
   "mimetype": "text/x-python",
   "name": "python",
   "nbconvert_exporter": "python",
   "pygments_lexer": "ipython3",
   "version": "3.5.5"
  },
  "widgets": {
   "state": {},
   "version": "1.1.2"
  }
 },
 "nbformat": 4,
 "nbformat_minor": 1
}
