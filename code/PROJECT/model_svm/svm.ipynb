{
 "cells": [
  {
   "cell_type": "code",
   "execution_count": 1,
   "metadata": {},
   "outputs": [],
   "source": [
    "import sys\n",
    "sys.path.append('D:\\git_file\\github\\doing\\Research-ReverselyGeneratingWebCode\\code\\PROJECT\\model_svm\\lib')\n",
    "\n",
    "from sklearn import svm\n",
    "\n",
    "from DATA import Data"
   ]
  },
  {
   "cell_type": "code",
   "execution_count": 7,
   "metadata": {},
   "outputs": [],
   "source": [
    "from sklearn.externals import joblib"
   ]
  },
  {
   "cell_type": "code",
   "execution_count": 2,
   "metadata": {
    "scrolled": true
   },
   "outputs": [
    {
     "name": "stdout",
     "output_type": "stream",
     "text": [
      "{'text': 0, 'icon': 0, 'img': 0, 'button': 6604, 'input': 0}\n",
      "{'text': 0, 'icon': 3601, 'img': 0, 'button': 6604, 'input': 0}\n",
      "E:\\Mulong\\Datasets\\Components3\\img\\11924.png\n",
      "E:\\Mulong\\Datasets\\Components3\\img\\18395.png\n",
      "E:\\Mulong\\Datasets\\Components3\\img\\18396.png\n",
      "E:\\Mulong\\Datasets\\Components3\\img\\18397.png\n",
      "E:\\Mulong\\Datasets\\Components3\\img\\18399.png\n",
      "E:\\Mulong\\Datasets\\Components3\\img\\18599.png\n",
      "E:\\Mulong\\Datasets\\Components3\\img\\18600.png\n",
      "E:\\Mulong\\Datasets\\Components3\\img\\18601.png\n",
      "E:\\Mulong\\Datasets\\Components3\\img\\25733.png\n",
      "{'text': 0, 'icon': 3601, 'img': 29991, 'button': 6604, 'input': 0}\n",
      "{'text': 0, 'icon': 3601, 'img': 29991, 'button': 6604, 'input': 1632}\n",
      "{'text': 16406, 'icon': 3601, 'img': 29991, 'button': 6604, 'input': 1632}\n",
      "58234 Data Loaded\n"
     ]
    }
   ],
   "source": [
    "data = Data()\n",
    "data.load_data()"
   ]
  },
  {
   "cell_type": "code",
   "execution_count": 3,
   "metadata": {},
   "outputs": [
    {
     "name": "stdout",
     "output_type": "stream",
     "text": [
      "X_train:46587, Y_train:46587\n",
      "X_test:11647, Y_test:11647\n"
     ]
    }
   ],
   "source": [
    "data.generate_training_data_HOG()"
   ]
  },
  {
   "cell_type": "code",
   "execution_count": 4,
   "metadata": {},
   "outputs": [],
   "source": [
    "clf = svm.SVC(verbose=True, probability=True)"
   ]
  },
  {
   "cell_type": "code",
   "execution_count": 5,
   "metadata": {
    "scrolled": true
   },
   "outputs": [
    {
     "name": "stderr",
     "output_type": "stream",
     "text": [
      "C:\\Users\\Shae\\AppData\\Roaming\\Python\\Python35\\site-packages\\sklearn\\svm\\base.py:196: FutureWarning: The default value of gamma will change from 'auto' to 'scale' in version 0.22 to account better for unscaled features. Set gamma explicitly to 'auto' or 'scale' to avoid this warning.\n",
      "  \"avoid this warning.\", FutureWarning)\n"
     ]
    },
    {
     "data": {
      "text/plain": [
       "SVC(C=1.0, cache_size=200, class_weight=None, coef0=0.0,\n",
       "  decision_function_shape='ovr', degree=3, gamma='auto_deprecated',\n",
       "  kernel='rbf', max_iter=-1, probability=True, random_state=None,\n",
       "  shrinking=True, tol=0.001, verbose=False)"
      ]
     },
     "execution_count": 5,
     "metadata": {},
     "output_type": "execute_result"
    }
   ],
   "source": [
    "clf.fit(data.X_train, data.Y_train)"
   ]
  },
  {
   "cell_type": "code",
   "execution_count": 8,
   "metadata": {},
   "outputs": [
    {
     "data": {
      "text/plain": [
       "['svm1.m']"
      ]
     },
     "execution_count": 8,
     "metadata": {},
     "output_type": "execute_result"
    }
   ],
   "source": [
    "joblib.dump(clf, 'svm1.m')"
   ]
  },
  {
   "cell_type": "code",
   "execution_count": 9,
   "metadata": {},
   "outputs": [],
   "source": [
    "clf = joblib.load('svm1.m')"
   ]
  },
  {
   "cell_type": "code",
   "execution_count": 19,
   "metadata": {},
   "outputs": [],
   "source": [
    "from skimage.feature import hog\n",
    "import cv2\n",
    "import numpy as np"
   ]
  },
  {
   "cell_type": "code",
   "execution_count": 38,
   "metadata": {
    "scrolled": true
   },
   "outputs": [],
   "source": [
    "img = cv2.imread('77.png', 0)\n",
    "img = cv2.resize(img, (64, 64))\n",
    "fea = hog(img, block_norm='L2')\n",
    "fea = np.reshape(fea, (1, -1))"
   ]
  },
  {
   "cell_type": "code",
   "execution_count": 40,
   "metadata": {},
   "outputs": [
    {
     "data": {
      "text/plain": [
       "0.9293380269597321"
      ]
     },
     "execution_count": 40,
     "metadata": {},
     "output_type": "execute_result"
    }
   ],
   "source": [
    "clf.score(data.X_test, data.Y_test)"
   ]
  },
  {
   "cell_type": "code",
   "execution_count": null,
   "metadata": {},
   "outputs": [],
   "source": []
  }
 ],
 "metadata": {
  "kernelspec": {
   "display_name": "Python 3",
   "language": "python",
   "name": "python3"
  },
  "language_info": {
   "codemirror_mode": {
    "name": "ipython",
    "version": 3
   },
   "file_extension": ".py",
   "mimetype": "text/x-python",
   "name": "python",
   "nbconvert_exporter": "python",
   "pygments_lexer": "ipython3",
   "version": "3.5.5"
  },
  "widgets": {
   "state": {},
   "version": "1.1.2"
  }
 },
 "nbformat": 4,
 "nbformat_minor": 1
}
