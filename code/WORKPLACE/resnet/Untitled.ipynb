{
 "cells": [
  {
   "cell_type": "code",
   "execution_count": 1,
   "metadata": {},
   "outputs": [
    {
     "name": "stderr",
     "output_type": "stream",
     "text": [
      "Using TensorFlow backend.\n"
     ]
    }
   ],
   "source": [
    "import Resnet\n",
    "import Data"
   ]
  },
  {
   "cell_type": "code",
   "execution_count": 2,
   "metadata": {},
   "outputs": [
    {
     "name": "stdout",
     "output_type": "stream",
     "text": [
      "Model Loaded From E:/Mulong/Model/rico_compos/resnet-ele14.h5\n"
     ]
    }
   ],
   "source": [
    "resnet = Resnet.ResClassifier()\n",
    "resnet.load()"
   ]
  },
  {
   "cell_type": "code",
   "execution_count": 9,
   "metadata": {},
   "outputs": [
    {
     "name": "stdout",
     "output_type": "stream",
     "text": [
      "VideoView\n",
      "VideoView\n",
      "VideoView\n",
      "VideoView\n",
      "VideoView\n",
      "VideoView\n",
      "VideoView\n",
      "VideoView\n",
      "VideoView\n",
      "VideoView\n",
      "VideoView\n",
      "VideoView\n",
      "VideoView\n",
      "VideoView\n",
      "VideoView\n",
      "VideoView\n",
      "VideoView\n",
      "VideoView\n",
      "VideoView\n",
      "VideoView\n",
      "VideoView\n",
      "VideoView\n",
      "VideoView\n",
      "VideoView\n",
      "VideoView\n",
      "VideoView\n",
      "VideoView\n",
      "VideoView\n",
      "VideoView\n",
      "VideoView\n",
      "VideoView\n",
      "VideoView\n",
      "VideoView\n",
      "VideoView\n",
      "VideoView\n",
      "VideoView\n",
      "VideoView\n",
      "VideoView\n",
      "VideoView\n",
      "VideoView\n",
      "VideoView\n",
      "VideoView\n",
      "VideoView\n",
      "VideoView\n",
      "VideoView\n",
      "VideoView\n",
      "VideoView\n",
      "VideoView\n",
      "VideoView\n",
      "VideoView\n",
      "VideoView\n",
      "VideoView\n",
      "VideoView\n",
      "VideoView\n",
      "VideoView\n",
      "VideoView\n",
      "VideoView\n",
      "VideoView\n",
      "VideoView\n",
      "VideoView\n",
      "VideoView\n",
      "VideoView\n",
      "VideoView\n",
      "VideoView\n",
      "VideoView\n",
      "VideoView\n",
      "VideoView\n",
      "VideoView\n",
      "VideoView\n",
      "VideoView\n",
      "VideoView\n",
      "VideoView\n",
      "VideoView\n",
      "VideoView\n",
      "VideoView\n",
      "VideoView\n",
      "VideoView\n",
      "VideoView\n",
      "VideoView\n",
      "VideoView\n",
      "VideoView\n",
      "VideoView\n",
      "VideoView\n",
      "VideoView\n",
      "VideoView\n",
      "VideoView\n",
      "VideoView\n",
      "VideoView\n",
      "VideoView\n",
      "VideoView\n",
      "VideoView\n",
      "VideoView\n",
      "VideoView\n",
      "VideoView\n",
      "VideoView\n",
      "VideoView\n",
      "VideoView\n",
      "VideoView\n",
      "VideoView\n"
     ]
    }
   ],
   "source": [
    "root = 'E:/Mulong/Datasets/rico/elements-14-2/Switch'\n",
    "resnet.predict([root + '/{}.png'.format(i) for i in range(1, 100)], load=False)"
   ]
  },
  {
   "cell_type": "code",
   "execution_count": null,
   "metadata": {},
   "outputs": [],
   "source": []
  }
 ],
 "metadata": {
  "kernelspec": {
   "display_name": "Python 3",
   "language": "python",
   "name": "python3"
  },
  "language_info": {
   "codemirror_mode": {
    "name": "ipython",
    "version": 3
   },
   "file_extension": ".py",
   "mimetype": "text/x-python",
   "name": "python",
   "nbconvert_exporter": "python",
   "pygments_lexer": "ipython3",
   "version": "3.5.6"
  }
 },
 "nbformat": 4,
 "nbformat_minor": 2
}
