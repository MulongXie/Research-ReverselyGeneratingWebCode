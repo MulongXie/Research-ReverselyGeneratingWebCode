{
 "cells": [
  {
   "cell_type": "code",
   "execution_count": 2,
   "metadata": {},
   "outputs": [],
   "source": [
    "class Config:\n",
    "    def __init__(self):\n",
    "        self.image_shape = (64, 64, 3)\n",
    "        # self.class_map = ['Image', 'Icon', 'Button', 'Input']     # ele-4\n",
    "        self.class_map = ['Button', 'CheckBox', 'Chronometer', 'EditText', 'ImageButton', 'ImageView',\n",
    "                          'ProgressBar', 'RadioButton', 'RatingBar', 'SeekBar', 'Spinner', 'Switch',\n",
    "                          'ToggleButton', 'VideoView', 'TextView']            # ele-14\n",
    "        self.DATA_PATH = \"E:\\Temp\\clipping\"\n",
    "        self.MODEL_PATH = 'E:/Mulong/Model/rico_compos/cnn-rico-1.h5'\n",
    "        self.class_id = {'Button':0, 'CheckBox':1, 'Chronometer':2, 'EditText':3, 'ImageButton':4, 'ImageView':5,\n",
    "                          'ProgressBar':6, 'RadioButton':7, 'RatingBar':8, 'SeekBar':9, 'Spinner':10, 'Switch':11,\n",
    "                          'ToggleButton':12, 'VideoView':13, 'TextView':14}\n",
    "\n",
    "        # self.DATA_PATH = \"E:/Mulong/Datasets/rico/elements-14\"\n",
    "        # self.MODEL_PATH = 'E:/Mulong/Model/rico_compos/cnn2-ele14.h5'\n",
    "\n",
    "        # self.DATA_PATH = \"E:\\Mulong\\Datasets\\dataset_webpage\\Components3\"\n",
    "        # self.MODEL_PATH = 'E:/Mulong/Model/rico_compos/cnn1-text.h5'\n",
    "\n",
    "        # TEXT AND NON-TEXT\n",
    "        # self.DATA_PATH = \"E:\\Mulong\\Datasets\\dataset_webpage\\Components3\"\n",
    "        # self.MODEL_PATH = 'E:/Mulong/Model/rico_compos/cnn2-textview.h5'\n",
    "        # self.class_map = ['Text', 'Non-Text']\n",
    "\n",
    "        # NOISE RECOGNITION\n",
    "        # self.DATA_PATH = \"E:\\Mulong\\Datasets\\dataset_webpage\\Components3\"\n",
    "        # self.MODEL_PATH = 'E:/Mulong/Model/rico_compos/cnn1-noise.h5'\n",
    "        # self.class_map = ['Noise', 'Non-Noise']\n",
    "\n",
    "        # IMAGE RECOGNITION\n",
    "        # self.DATA_PATH = \"E:\\Mulong\\Datasets\\dataset_webpage\\Components3\"\n",
    "        # self.MODEL_PATH = 'E:/Mulong/Model/rico_compos/cnn-image-1.h5'\n",
    "        # self.class_map = ['Image', 'Non-Image']\n",
    "\n",
    "        self.class_number = len(self.class_map)\n",
    "\n",
    "cfg = Config()"
   ]
  },
  {
   "cell_type": "code",
   "execution_count": 18,
   "metadata": {},
   "outputs": [],
   "source": [
    "import cv2\n",
    "import numpy as np\n",
    "from os.path import join as pjoin\n",
    "import glob\n",
    "from tqdm import tqdm\n",
    "\n",
    "\n",
    "class Data:\n",
    "\n",
    "    def __init__(self):\n",
    "        self.data_num = 0\n",
    "        self.images = []\n",
    "        self.labels = []\n",
    "        self.X_train, self.Y_train = None, None\n",
    "        self.X_test, self.Y_test = None, None\n",
    "\n",
    "        self.image_shape = cfg.image_shape\n",
    "        self.class_number = cfg.class_number\n",
    "        self.class_map = cfg.class_map\n",
    "        self.DATA_PATH = cfg.DATA_PATH\n",
    "\n",
    "    def load_data(self, resize=True, shape=None, max_number=1000000):\n",
    "        # if customize shape\n",
    "        if shape is not None:\n",
    "            self.image_shape = shape\n",
    "        else:\n",
    "            shape = self.image_shape\n",
    "        # load data\n",
    "        for p in glob.glob(pjoin(self.DATA_PATH, '*')):\n",
    "            print(\"*** Loading components of %s: %d ***\" %(p.split('\\\\')[-1], int(len(glob.glob(pjoin(p, '*.png'))))))\n",
    "            label = cfg.class_id[p.split('\\\\')[-1]]\n",
    "\n",
    "            for i, image_path in enumerate(tqdm(glob.glob(pjoin(p, '*.png'))[:max_number])):\n",
    "                image = cv2.imread(image_path)\n",
    "                if resize:\n",
    "                    image = cv2.resize(image, shape[:2])\n",
    "                self.images.append(image)\n",
    "                self.labels.append(label)\n",
    "        assert len(self.images) == len(self.labels)\n",
    "        self.data_num = len(self.images)\n",
    "        print('%d Data Loaded' % self.data_num)\n",
    "\n",
    "    def generate_training_data(self, train_data_ratio=0.8):\n",
    "        # transfer int into c dimensions one-hot array\n",
    "        def expand(label, class_number):\n",
    "            # return y : (num_class, num_samples)\n",
    "            y = np.eye(class_number)[label]\n",
    "            y = np.squeeze(y)\n",
    "            return y\n",
    "        # reshuffle\n",
    "        np.random.seed(0)\n",
    "        self.images = np.random.permutation(self.images)\n",
    "        np.random.seed(0)\n",
    "        self.labels = np.random.permutation(self.labels)\n",
    "        Y = expand(self.labels, self.class_number)\n",
    "        # separate dataset\n",
    "        cut = int(train_data_ratio * self.data_num)\n",
    "        self.X_train = (self.images[:cut] / 255).astype('float32')\n",
    "        self.X_test = (self.images[cut:] / 255).astype('float32')\n",
    "        self.Y_train = Y[:cut]\n",
    "        self.Y_test = Y[cut:]\n",
    "        print('X_train:%d, Y_train:%d' % (len(self.X_train), len(self.Y_train)))\n",
    "        print('X_test:%d, Y_test:%d' % (len(self.X_test), len(self.Y_test)))\n"
   ]
  },
  {
   "cell_type": "code",
   "execution_count": 19,
   "metadata": {},
   "outputs": [],
   "source": [
    "data = Data()"
   ]
  },
  {
   "cell_type": "code",
   "execution_count": 25,
   "metadata": {},
   "outputs": [
    {
     "name": "stderr",
     "output_type": "stream",
     "text": [
      "  3%|██▌                                                                           | 101/3082 [00:00<00:04, 603.09it/s]"
     ]
    },
    {
     "name": "stdout",
     "output_type": "stream",
     "text": [
      "*** Loading components of Button: 3082 ***\n"
     ]
    },
    {
     "name": "stderr",
     "output_type": "stream",
     "text": [
      "100%|██████████████████████████████████████████████████████████████████████████████| 3082/3082 [01:21<00:00, 37.88it/s]\n",
      " 67%|████████████████████████████████████████████████████▍                         | 330/491 [00:00<00:00, 3026.11it/s]"
     ]
    },
    {
     "name": "stdout",
     "output_type": "stream",
     "text": [
      "*** Loading components of CheckBox: 491 ***\n"
     ]
    },
    {
     "name": "stderr",
     "output_type": "stream",
     "text": [
      "100%|██████████████████████████████████████████████████████████████████████████████| 491/491 [00:00<00:00, 2329.60it/s]\n",
      "100%|███████████████████████████████████████████████████████████████████████████████████| 1/1 [00:00<00:00, 362.08it/s]\n",
      " 13%|█████████▉                                                                    | 110/862 [00:00<00:00, 1038.59it/s]"
     ]
    },
    {
     "name": "stdout",
     "output_type": "stream",
     "text": [
      "*** Loading components of Chronometer: 1 ***\n",
      "*** Loading components of EditText: 862 ***\n"
     ]
    },
    {
     "name": "stderr",
     "output_type": "stream",
     "text": [
      "100%|██████████████████████████████████████████████████████████████████████████████| 862/862 [00:00<00:00, 1067.77it/s]\n",
      "  4%|██▉                                                                          | 205/5344 [00:00<00:02, 2017.12it/s]"
     ]
    },
    {
     "name": "stdout",
     "output_type": "stream",
     "text": [
      "*** Loading components of ImageButton: 5344 ***\n"
     ]
    },
    {
     "name": "stderr",
     "output_type": "stream",
     "text": [
      "100%|████████████████████████████████████████████████████████████████████████████| 5344/5344 [00:02<00:00, 2193.57it/s]\n",
      "  1%|▌                                                                             | 91/11820 [00:00<00:13, 884.45it/s]"
     ]
    },
    {
     "name": "stdout",
     "output_type": "stream",
     "text": [
      "*** Loading components of ImageView: 11820 ***\n"
     ]
    },
    {
     "name": "stderr",
     "output_type": "stream",
     "text": [
      "100%|████████████████████████████████████████████████████████████████████████████| 11820/11820 [02:29<00:00, 79.24it/s]\n",
      "100%|████████████████████████████████████████████████████████████████████████████████| 41/41 [00:00<00:00, 1374.53it/s]\n",
      "100%|████████████████████████████████████████████████████████████████████████████████| 98/98 [00:00<00:00, 2671.84it/s]\n",
      "100%|████████████████████████████████████████████████████████████████████████████████| 14/14 [00:00<00:00, 3375.12it/s]\n",
      "  0%|                                                                                           | 0/86 [00:00<?, ?it/s]"
     ]
    },
    {
     "name": "stdout",
     "output_type": "stream",
     "text": [
      "*** Loading components of ProgressBar: 41 ***\n",
      "*** Loading components of RadioButton: 98 ***\n",
      "*** Loading components of RatingBar: 14 ***\n",
      "*** Loading components of SeekBar: 86 ***\n"
     ]
    },
    {
     "name": "stderr",
     "output_type": "stream",
     "text": [
      "100%|████████████████████████████████████████████████████████████████████████████████| 86/86 [00:00<00:00, 1168.64it/s]\n",
      "100%|███████████████████████████████████████████████████████████████████████████████████| 6/6 [00:00<00:00, 939.06it/s]\n",
      " 51%|███████████████████████████████████████▊                                      | 106/208 [00:00<00:00, 1025.95it/s]"
     ]
    },
    {
     "name": "stdout",
     "output_type": "stream",
     "text": [
      "*** Loading components of Spinner: 6 ***\n",
      "*** Loading components of Switch: 208 ***\n"
     ]
    },
    {
     "name": "stderr",
     "output_type": "stream",
     "text": [
      "100%|███████████████████████████████████████████████████████████████████████████████| 208/208 [00:01<00:00, 125.53it/s]\n",
      "  0%|▎                                                                            | 102/22043 [00:00<00:23, 924.32it/s]"
     ]
    },
    {
     "name": "stdout",
     "output_type": "stream",
     "text": [
      "*** Loading components of TextView: 22043 ***\n"
     ]
    },
    {
     "name": "stderr",
     "output_type": "stream",
     "text": [
      "100%|████████████████████████████████████████████████████████████████████████████| 22043/22043 [12:16<00:00, 29.93it/s]\n",
      "  5%|████                                                                              | 7/142 [00:00<00:01, 69.47it/s]"
     ]
    },
    {
     "name": "stdout",
     "output_type": "stream",
     "text": [
      "*** Loading components of ToggleButton: 142 ***\n"
     ]
    },
    {
     "name": "stderr",
     "output_type": "stream",
     "text": [
      "100%|████████████████████████████████████████████████████████████████████████████████| 142/142 [00:03<00:00, 37.82it/s]\n",
      "100%|█████████████████████████████████████████████████████████████████████████████████| 27/27 [00:00<00:00, 285.31it/s]"
     ]
    },
    {
     "name": "stdout",
     "output_type": "stream",
     "text": [
      "*** Loading components of VideoView: 27 ***\n",
      "44417 Data Loaded\n"
     ]
    },
    {
     "name": "stderr",
     "output_type": "stream",
     "text": [
      "\n"
     ]
    }
   ],
   "source": [
    "data.load_data(max_number=30000)"
   ]
  },
  {
   "cell_type": "code",
   "execution_count": 26,
   "metadata": {},
   "outputs": [
    {
     "name": "stdout",
     "output_type": "stream",
     "text": [
      "X_train:44417, Y_train:44417\n",
      "X_test:0, Y_test:0\n"
     ]
    }
   ],
   "source": [
    "data.generate_training_data(train_data_ratio=1.0)"
   ]
  },
  {
   "cell_type": "code",
   "execution_count": 39,
   "metadata": {},
   "outputs": [],
   "source": [
    "from keras.models import Sequential, load_model\n",
    "from keras.layers import Conv2D, MaxPool2D, Dense, Flatten, Dropout\n",
    "from sklearn.metrics import confusion_matrix\n",
    "import cv2\n",
    "import numpy as np\n",
    "\n",
    "class CNN:\n",
    "\n",
    "    def __init__(self):\n",
    "        self.data = None\n",
    "        self.model = None\n",
    "\n",
    "        self.image_shape = cfg.image_shape\n",
    "        self.class_number = cfg.class_number\n",
    "        self.class_map = cfg.class_map\n",
    "        self.MODEL_PATH = cfg.MODEL_PATH\n",
    "\n",
    "    def network(self, epoch_num):\n",
    "        # block 1\n",
    "        self.model.add(Conv2D(64, (3, 3), activation='relu', input_shape=self.image_shape, padding='same'))\n",
    "        self.model.add(Conv2D(64, (3, 3), activation='relu', padding='same'))\n",
    "        self.model.add(MaxPool2D(pool_size=(2, 2)))\n",
    "        self.model.add(Dropout(0.25))\n",
    "        # block 2\n",
    "        self.model.add(Flatten())\n",
    "        self.model.add(Dense(128, activation='relu'))\n",
    "        self.model.add(Dropout(0.5))\n",
    "        # block 3\n",
    "        self.model.add(Dense(self.class_number, activation='softmax'))\n",
    "\n",
    "        self.model.compile(loss='categorical_crossentropy', optimizer='adadelta', metrics=['accuracy'])\n",
    "        self.model.fit(self.data.X_train, self.data.Y_train, batch_size=64, epochs=epoch_num, verbose=1, validation_data=(self.data.X_test, self.data.Y_test))\n",
    "\n",
    "    def train(self, data, epoch_num=30):\n",
    "        print(\"Trained model is saved to\", self.MODEL_PATH)\n",
    "        self.data = data\n",
    "        self.model = Sequential()\n",
    "        self.network(epoch_num)\n",
    "        self.model.save(self.MODEL_PATH)\n",
    "\n",
    "    def evaluate(self, data, load=True):\n",
    "        # calculate TP, FN, FP, TN\n",
    "        def calculate_n_p(matrix):\n",
    "            TP, FN, FP, TN = 0, 0, 0, 0\n",
    "            for i in range(len(matrix)):\n",
    "                TP += matrix[i][i] / np.sum(matrix[i])\n",
    "                FN += (np.sum(matrix[:, i]) - matrix[i][i]) / np.sum(matrix[:, i])\n",
    "                FP += (np.sum(matrix[i]) - matrix[i][i]) / np.sum(matrix[i])\n",
    "                TN += (np.trace(matrix) - matrix[i][i]) / np.trace(matrix)\n",
    "            TP = TP / len(matrix)\n",
    "            FN = FN / len(matrix)\n",
    "            FP = FP / len(matrix)\n",
    "            TN = TN / len(matrix)\n",
    "            return TP, FN, FP, TN\n",
    "\n",
    "        if load:\n",
    "            self.load()\n",
    "        X_test = data.X_test\n",
    "        Y_test = [np.argmax(y) for y in data.Y_test]\n",
    "        Y_pre = []\n",
    "        for X in X_test:\n",
    "            X = np.array([X])\n",
    "            Y_pre.append(np.argmax(self.model.predict(X)))\n",
    "\n",
    "        matrix = confusion_matrix(Y_test, Y_pre)\n",
    "        TP, FN, FP, TN = calculate_n_p(matrix)\n",
    "        recall = TP / (TP + FN)\n",
    "        precision = TP / (TP + FP)\n",
    "        accuracy = (TP + TN) / (TP + FN + FP + TN)\n",
    "        balanced_accuracy = TP\n",
    "        print(matrix)\n",
    "        print('\\nTP:%.3f \\t FN:%.3f \\nFP:%.3f \\t TN:%.3f\\n' % (TP, FN, FP, TN))\n",
    "        print('recall:%.3f \\t precision:%.3f \\t accuracy:%.3f \\t balanced accuracy:%.3f' % (recall, precision, accuracy, balanced_accuracy))\n",
    "        return matrix\n",
    "        \n",
    "    def predict(self, img_path, load=True, show=False):\n",
    "        \"\"\"\n",
    "        :type img_path: list of img path\n",
    "        \"\"\"\n",
    "        if load:\n",
    "            self.load()\n",
    "        for path in img_path:\n",
    "            img = cv2.imread(path)\n",
    "            X = cv2.resize(img, self.image_shape[:2])\n",
    "            X = (X / 255).astype('float32')\n",
    "            X = np.array([X])  # from (64, 64, 3) to (1, 64, 64, 3)\n",
    "            Y = self.class_map[np.argmax(self.model.predict(X))]\n",
    "            print(Y)\n",
    "            if show:\n",
    "                cv2.imshow('img', img)\n",
    "                cv2.waitKey(0)\n",
    "                cv2.destroyAllWindows()\n",
    "\n",
    "    def load(self):\n",
    "        self.model = load_model(self.MODEL_PATH)\n",
    "        print('Model Loaded From', self.MODEL_PATH)\n"
   ]
  },
  {
   "cell_type": "code",
   "execution_count": 40,
   "metadata": {},
   "outputs": [],
   "source": [
    "cnn = CNN()"
   ]
  },
  {
   "cell_type": "code",
   "execution_count": 31,
   "metadata": {},
   "outputs": [
    {
     "name": "stdout",
     "output_type": "stream",
     "text": [
      "Trained model is saved to E:/Mulong/Model/rico_compos/cnn-rico-1.h5\n",
      "Train on 44417 samples, validate on 0 samples\n",
      "Epoch 1/10\n",
      "44417/44417 [==============================] - 63s 1ms/step - loss: 1.0012 - acc: 0.6822\n",
      "Epoch 2/10\n",
      "44417/44417 [==============================] - 56s 1ms/step - loss: 0.7911 - acc: 0.7505\n",
      "Epoch 3/10\n",
      "44417/44417 [==============================] - 56s 1ms/step - loss: 0.7018 - acc: 0.7788\n",
      "Epoch 4/10\n",
      "44417/44417 [==============================] - 56s 1ms/step - loss: 0.6274 - acc: 0.8026\n",
      "Epoch 5/10\n",
      "44417/44417 [==============================] - 56s 1ms/step - loss: 0.5709 - acc: 0.8205\n",
      "Epoch 6/10\n",
      "44417/44417 [==============================] - 56s 1ms/step - loss: 0.5194 - acc: 0.8344\n",
      "Epoch 7/10\n",
      "44417/44417 [==============================] - 56s 1ms/step - loss: 0.4798 - acc: 0.8485\n",
      "Epoch 8/10\n",
      "44417/44417 [==============================] - 56s 1ms/step - loss: 0.4346 - acc: 0.8612\n",
      "Epoch 9/10\n",
      "44417/44417 [==============================] - 56s 1ms/step - loss: 0.4118 - acc: 0.8712\n",
      "Epoch 10/10\n",
      "44417/44417 [==============================] - 56s 1ms/step - loss: 0.3843 - acc: 0.8784: 0s - loss: 0.3837 \n"
     ]
    }
   ],
   "source": [
    "cnn.train(data, 10)"
   ]
  },
  {
   "cell_type": "code",
   "execution_count": 36,
   "metadata": {},
   "outputs": [],
   "source": [
    "data.X_test = data.X_train\n",
    "data.Y_test = data.Y_train"
   ]
  },
  {
   "cell_type": "code",
   "execution_count": 41,
   "metadata": {},
   "outputs": [
    {
     "name": "stdout",
     "output_type": "stream",
     "text": [
      "Model Loaded From E:/Mulong/Model/rico_compos/cnn-rico-1.h5\n",
      "[[ 2197     0     0     1    27   167     0     0     0     0     0     0\n",
      "      0     0   701]\n",
      " [    1   448     0     0     5    43     0     0     0     0     0     0\n",
      "      0     0     5]\n",
      " [    0     0     0     0     0     0     0     0     0     0     0     0\n",
      "      0     0     3]\n",
      " [   10     0     0   390     6    43     0     0     0     0     0     0\n",
      "      0     0   424]\n",
      " [   24     1     0     0  4869   367     0     0     0     0     0     0\n",
      "      0     0    94]\n",
      " [   22     7     0     3   252 10938     0     0     0     0     0     1\n",
      "      0     0   608]\n",
      " [    3     0     0     0     3    18    17     0     0     0     0     0\n",
      "      0     0    11]\n",
      " [    3     0     0     0     5    52     0    37     0     0     0     0\n",
      "      0     0    12]\n",
      " [    0     0     0     0     2    11     0     0     0     0     0     0\n",
      "      0     0    12]\n",
      " [    0     0     0     0     2    15     0     0     0    70     0     1\n",
      "      0     0     9]\n",
      " [    2     0     0     0     0     2     0     0     0     0     0     0\n",
      "      0     0     9]\n",
      " [    2     0     0     0     0    13     0     0     0     0     0   196\n",
      "      0     0     8]\n",
      " [    7     0     0     0    11    25     0     0     0     0     0     4\n",
      "     85     0    21]\n",
      " [    2     0     0     0     1    23     0     0     0     0     0     0\n",
      "      0     0    12]\n",
      " [   75    15     0    10    66   506     0     0     0     0     0     2\n",
      "      0     0 21380]]\n",
      "\n",
      "TP:0.513 \t FN:nan \n",
      "FP:0.487 \t TN:0.933\n",
      "\n",
      "recall:nan \t precision:0.513 \t accuracy:nan \t balanced accuracy:0.513\n"
     ]
    },
    {
     "name": "stderr",
     "output_type": "stream",
     "text": [
      "D:\\Anaconda\\lib\\site-packages\\ipykernel_launcher.py:47: RuntimeWarning: invalid value encountered in longlong_scalars\n"
     ]
    }
   ],
   "source": [
    "matrix = cnn.evaluate(data)"
   ]
  },
  {
   "cell_type": "code",
   "execution_count": 42,
   "metadata": {},
   "outputs": [
    {
     "data": {
      "text/plain": [
       "array([[ 2197,     0,     0,     1,    27,   167,     0,     0,     0,\n",
       "            0,     0,     0,     0,     0,   701],\n",
       "       [    1,   448,     0,     0,     5,    43,     0,     0,     0,\n",
       "            0,     0,     0,     0,     0,     5],\n",
       "       [    0,     0,     0,     0,     0,     0,     0,     0,     0,\n",
       "            0,     0,     0,     0,     0,     3],\n",
       "       [   10,     0,     0,   390,     6,    43,     0,     0,     0,\n",
       "            0,     0,     0,     0,     0,   424],\n",
       "       [   24,     1,     0,     0,  4869,   367,     0,     0,     0,\n",
       "            0,     0,     0,     0,     0,    94],\n",
       "       [   22,     7,     0,     3,   252, 10938,     0,     0,     0,\n",
       "            0,     0,     1,     0,     0,   608],\n",
       "       [    3,     0,     0,     0,     3,    18,    17,     0,     0,\n",
       "            0,     0,     0,     0,     0,    11],\n",
       "       [    3,     0,     0,     0,     5,    52,     0,    37,     0,\n",
       "            0,     0,     0,     0,     0,    12],\n",
       "       [    0,     0,     0,     0,     2,    11,     0,     0,     0,\n",
       "            0,     0,     0,     0,     0,    12],\n",
       "       [    0,     0,     0,     0,     2,    15,     0,     0,     0,\n",
       "           70,     0,     1,     0,     0,     9],\n",
       "       [    2,     0,     0,     0,     0,     2,     0,     0,     0,\n",
       "            0,     0,     0,     0,     0,     9],\n",
       "       [    2,     0,     0,     0,     0,    13,     0,     0,     0,\n",
       "            0,     0,   196,     0,     0,     8],\n",
       "       [    7,     0,     0,     0,    11,    25,     0,     0,     0,\n",
       "            0,     0,     4,    85,     0,    21],\n",
       "       [    2,     0,     0,     0,     1,    23,     0,     0,     0,\n",
       "            0,     0,     0,     0,     0,    12],\n",
       "       [   75,    15,     0,    10,    66,   506,     0,     0,     0,\n",
       "            0,     0,     2,     0,     0, 21380]], dtype=int64)"
      ]
     },
     "execution_count": 42,
     "metadata": {},
     "output_type": "execute_result"
    }
   ],
   "source": [
    "matrix"
   ]
  },
  {
   "cell_type": "code",
   "execution_count": 48,
   "metadata": {},
   "outputs": [],
   "source": [
    "def calculate_n_p(matrix):\n",
    "    TP, FN, FP, TN = 0, 0, 0, 0\n",
    "    for i in range(len(matrix)):\n",
    "        TP += matrix[i][i]\n",
    "        FN += (np.sum(matrix[:, i]) - matrix[i][i])\n",
    "        FP += (np.sum(matrix[i]) - matrix[i][i])\n",
    "    return TP, FN, FP"
   ]
  },
  {
   "cell_type": "code",
   "execution_count": 49,
   "metadata": {},
   "outputs": [],
   "source": [
    "TP, FN, FP = calculate_n_p(matrix)"
   ]
  },
  {
   "cell_type": "code",
   "execution_count": 50,
   "metadata": {},
   "outputs": [
    {
     "name": "stdout",
     "output_type": "stream",
     "text": [
      "40627 3790 3790\n"
     ]
    }
   ],
   "source": [
    "print(TP, FN, FP)"
   ]
  },
  {
   "cell_type": "code",
   "execution_count": 51,
   "metadata": {},
   "outputs": [
    {
     "data": {
      "text/plain": [
       "0.9146723101515185"
      ]
     },
     "execution_count": 51,
     "metadata": {},
     "output_type": "execute_result"
    }
   ],
   "source": [
    "TP / (TP + FN)"
   ]
  },
  {
   "cell_type": "code",
   "execution_count": 52,
   "metadata": {},
   "outputs": [
    {
     "data": {
      "text/plain": [
       "0.9146723101515185"
      ]
     },
     "execution_count": 52,
     "metadata": {},
     "output_type": "execute_result"
    }
   ],
   "source": [
    "TP / (TP + FP)"
   ]
  },
  {
   "cell_type": "code",
   "execution_count": 54,
   "metadata": {},
   "outputs": [
    {
     "data": {
      "text/plain": [
       "1425"
      ]
     },
     "execution_count": 54,
     "metadata": {},
     "output_type": "execute_result"
    }
   ],
   "source": [
    "open('matrix.txt', 'w').write(str(matrix))"
   ]
  },
  {
   "cell_type": "code",
   "execution_count": null,
   "metadata": {},
   "outputs": [],
   "source": []
  }
 ],
 "metadata": {
  "kernelspec": {
   "display_name": "Python 3",
   "language": "python",
   "name": "python3"
  },
  "language_info": {
   "codemirror_mode": {
    "name": "ipython",
    "version": 3
   },
   "file_extension": ".py",
   "mimetype": "text/x-python",
   "name": "python",
   "nbconvert_exporter": "python",
   "pygments_lexer": "ipython3",
   "version": "3.5.6"
  }
 },
 "nbformat": 4,
 "nbformat_minor": 2
}
