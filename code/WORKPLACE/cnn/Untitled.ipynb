{
 "cells": [
  {
   "cell_type": "code",
   "execution_count": 1,
   "metadata": {},
   "outputs": [
    {
     "name": "stderr",
     "output_type": "stream",
     "text": [
      "Using TensorFlow backend.\n"
     ]
    }
   ],
   "source": [
    "import DATA\n",
    "import CONFIG\n",
    "import CNN"
   ]
  },
  {
   "cell_type": "code",
   "execution_count": 2,
   "metadata": {},
   "outputs": [],
   "source": [
    "data = DATA.Data()"
   ]
  },
  {
   "cell_type": "code",
   "execution_count": 3,
   "metadata": {},
   "outputs": [
    {
     "name": "stderr",
     "output_type": "stream",
     "text": [
      "  5%|▌         | 337/6604 [00:00<00:01, 3360.85it/s]"
     ]
    },
    {
     "name": "stdout",
     "output_type": "stream",
     "text": [
      "*** Loading components of button: 6604 ***\n"
     ]
    },
    {
     "name": "stderr",
     "output_type": "stream",
     "text": [
      "100%|██████████| 6604/6604 [00:01<00:00, 3683.34it/s]\n",
      " 16%|█▌        | 583/3601 [00:00<00:00, 5785.63it/s]"
     ]
    },
    {
     "name": "stdout",
     "output_type": "stream",
     "text": [
      "*** Loading components of icon: 3601 ***\n"
     ]
    },
    {
     "name": "stderr",
     "output_type": "stream",
     "text": [
      "100%|██████████| 3601/3601 [00:00<00:00, 6112.55it/s]\n",
      "  0%|          | 0/10000 [00:00<?, ?it/s]"
     ]
    },
    {
     "name": "stdout",
     "output_type": "stream",
     "text": [
      "*** Loading components of img: 46479 ***\n"
     ]
    },
    {
     "name": "stderr",
     "output_type": "stream",
     "text": [
      "100%|██████████| 10000/10000 [00:53<00:00, 186.95it/s]\n",
      "  4%|▍         | 65/1632 [00:00<00:02, 646.05it/s]"
     ]
    },
    {
     "name": "stdout",
     "output_type": "stream",
     "text": [
      "*** Loading components of input: 1632 ***\n"
     ]
    },
    {
     "name": "stderr",
     "output_type": "stream",
     "text": [
      "100%|██████████| 1632/1632 [00:01<00:00, 1142.71it/s]\n",
      "  2%|▏         | 178/10000 [00:00<00:05, 1767.10it/s]"
     ]
    },
    {
     "name": "stdout",
     "output_type": "stream",
     "text": [
      "*** Loading components of text: 16405 ***\n"
     ]
    },
    {
     "name": "stderr",
     "output_type": "stream",
     "text": [
      "100%|██████████| 10000/10000 [00:07<00:00, 1328.03it/s]"
     ]
    },
    {
     "name": "stdout",
     "output_type": "stream",
     "text": [
      "31829 Data Loaded\n"
     ]
    },
    {
     "name": "stderr",
     "output_type": "stream",
     "text": [
      "\n"
     ]
    }
   ],
   "source": [
    "data.load_data(max_number=10000)"
   ]
  },
  {
   "cell_type": "code",
   "execution_count": 4,
   "metadata": {},
   "outputs": [
    {
     "name": "stdout",
     "output_type": "stream",
     "text": [
      "X_train:25463, Y_train:25463\n",
      "X_test:6366, Y_test:6366\n"
     ]
    }
   ],
   "source": [
    "data.generate_training_data()"
   ]
  },
  {
   "cell_type": "code",
   "execution_count": 5,
   "metadata": {},
   "outputs": [],
   "source": [
    "cnn = CNN.CNN()"
   ]
  },
  {
   "cell_type": "code",
   "execution_count": 7,
   "metadata": {},
   "outputs": [
    {
     "name": "stdout",
     "output_type": "stream",
     "text": [
      "Train on 25463 samples, validate on 6366 samples\n",
      "Epoch 1/10\n",
      "25463/25463 [==============================] - 13s 514us/step - loss: 0.3409 - acc: 0.8602 - val_loss: 0.1338 - val_acc: 0.9582\n",
      "Epoch 2/10\n",
      "25463/25463 [==============================] - 12s 486us/step - loss: 0.1326 - acc: 0.9561 - val_loss: 0.0940 - val_acc: 0.9711\n",
      "Epoch 3/10\n",
      "25463/25463 [==============================] - 12s 483us/step - loss: 0.0991 - acc: 0.9672 - val_loss: 0.0797 - val_acc: 0.9722\n",
      "Epoch 4/10\n",
      "25463/25463 [==============================] - 12s 480us/step - loss: 0.0787 - acc: 0.9728 - val_loss: 0.0810 - val_acc: 0.9755\n",
      "Epoch 5/10\n",
      "25463/25463 [==============================] - 12s 488us/step - loss: 0.0664 - acc: 0.9789 - val_loss: 0.0657 - val_acc: 0.9783\n",
      "Epoch 6/10\n",
      "25463/25463 [==============================] - 12s 488us/step - loss: 0.0592 - acc: 0.9816 - val_loss: 0.0714 - val_acc: 0.9783\n",
      "Epoch 7/10\n",
      "25463/25463 [==============================] - 12s 485us/step - loss: 0.0506 - acc: 0.9843 - val_loss: 0.0669 - val_acc: 0.9805\n",
      "Epoch 8/10\n",
      "25463/25463 [==============================] - 12s 487us/step - loss: 0.0440 - acc: 0.9866 - val_loss: 0.0656 - val_acc: 0.9804\n",
      "Epoch 9/10\n",
      "25463/25463 [==============================] - 12s 483us/step - loss: 0.0396 - acc: 0.9875 - val_loss: 0.0692 - val_acc: 0.9807\n",
      "Epoch 10/10\n",
      "25463/25463 [==============================] - 12s 480us/step - loss: 0.0340 - acc: 0.9897 - val_loss: 0.0849 - val_acc: 0.9808\n",
      "Trained model is saved to E:/Mulong/Model/rico_compos/cnn2-ele14.h5\n"
     ]
    }
   ],
   "source": [
    "cnn.train(data, 10)"
   ]
  },
  {
   "cell_type": "code",
   "execution_count": 8,
   "metadata": {},
   "outputs": [
    {
     "name": "stdout",
     "output_type": "stream",
     "text": [
      "Model Loaded From E:/Mulong/Model/rico_compos/cnn2-ele14.h5\n",
      "[[1928   78]\n",
      " [  44 4316]]\n",
      "\n",
      "TP:0.976 \t FN:0.020 \n",
      "FP:0.024 \t TN:0.500\n",
      "\n",
      "recall:0.980 \t precision:0.976 \t accuracy:0.971 \t balanced accuracy:0.976\n"
     ]
    }
   ],
   "source": [
    "cnn.evaluate(data)"
   ]
  }
 ],
 "metadata": {
  "kernelspec": {
   "display_name": "Python 3",
   "language": "python",
   "name": "python3"
  },
  "language_info": {
   "codemirror_mode": {
    "name": "ipython",
    "version": 3
   },
   "file_extension": ".py",
   "mimetype": "text/x-python",
   "name": "python",
   "nbconvert_exporter": "python",
   "pygments_lexer": "ipython3",
   "version": "3.5.6"
  }
 },
 "nbformat": 4,
 "nbformat_minor": 2
}
