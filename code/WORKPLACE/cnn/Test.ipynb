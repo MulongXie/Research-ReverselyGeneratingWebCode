{
 "cells": [
  {
   "cell_type": "code",
   "execution_count": 4,
   "metadata": {},
   "outputs": [],
   "source": [
    "class Config:\n",
    "    def __init__(self):\n",
    "        self.image_shape = (64, 64, 3)\n",
    "        # self.class_map = ['Image', 'Icon', 'Button', 'Input']     # ele-4\n",
    "        self.class_map = ['Button', 'CheckBox', 'Chronometer', 'EditText', 'ImageButton', 'ImageView',\n",
    "                          'ProgressBar', 'RadioButton', 'RatingBar', 'SeekBar', 'Spinner', 'Switch',\n",
    "                          'ToggleButton', 'VideoView', 'TextView']            # ele-14\n",
    "#         self.DATA_PATH = \"E:\\Temp\\clipping\"\n",
    "        self.DATA_PATH = \"E:/Mulong/Datasets/rico/elements-14\"\n",
    "        self.MODEL_PATH = 'E:/Mulong/Model/rico_compos/cnn-rico-1.h5'\n",
    "        self.class_id = {'Button':0, 'CheckBox':1, 'Chronometer':2, 'EditText':3, 'ImageButton':4, 'ImageView':5,\n",
    "                          'ProgressBar':6, 'RadioButton':7, 'RatingBar':8, 'SeekBar':9, 'Spinner':10, 'Switch':11,\n",
    "                          'ToggleButton':12, 'VideoView':13, 'TextView':14}\n",
    "\n",
    "        # self.DATA_PATH = \"E:/Mulong/Datasets/rico/elements-14\"\n",
    "        # self.MODEL_PATH = 'E:/Mulong/Model/rico_compos/cnn2-ele14.h5'\n",
    "\n",
    "        # self.DATA_PATH = \"E:\\Mulong\\Datasets\\dataset_webpage\\Components3\"\n",
    "        # self.MODEL_PATH = 'E:/Mulong/Model/rico_compos/cnn1-text.h5'\n",
    "\n",
    "        # TEXT AND NON-TEXT\n",
    "        # self.DATA_PATH = \"E:\\Mulong\\Datasets\\dataset_webpage\\Components3\"\n",
    "        # self.MODEL_PATH = 'E:/Mulong/Model/rico_compos/cnn2-textview.h5'\n",
    "        # self.class_map = ['Text', 'Non-Text']\n",
    "\n",
    "        # NOISE RECOGNITION\n",
    "        # self.DATA_PATH = \"E:\\Mulong\\Datasets\\dataset_webpage\\Components3\"\n",
    "        # self.MODEL_PATH = 'E:/Mulong/Model/rico_compos/cnn1-noise.h5'\n",
    "        # self.class_map = ['Noise', 'Non-Noise']\n",
    "\n",
    "        # IMAGE RECOGNITION\n",
    "        # self.DATA_PATH = \"E:\\Mulong\\Datasets\\dataset_webpage\\Components3\"\n",
    "        # self.MODEL_PATH = 'E:/Mulong/Model/rico_compos/cnn-image-1.h5'\n",
    "        # self.class_map = ['Image', 'Non-Image']\n",
    "\n",
    "        self.class_number = len(self.class_map)\n",
    "\n",
    "cfg = Config()"
   ]
  },
  {
   "cell_type": "code",
   "execution_count": 5,
   "metadata": {},
   "outputs": [],
   "source": [
    "import cv2\n",
    "import numpy as np\n",
    "from os.path import join as pjoin\n",
    "import glob\n",
    "from tqdm import tqdm\n",
    "\n",
    "\n",
    "class Data:\n",
    "\n",
    "    def __init__(self):\n",
    "        self.data_num = 0\n",
    "        self.images = []\n",
    "        self.labels = []\n",
    "        self.X_train, self.Y_train = None, None\n",
    "        self.X_test, self.Y_test = None, None\n",
    "\n",
    "        self.image_shape = cfg.image_shape\n",
    "        self.class_number = cfg.class_number\n",
    "        self.class_map = cfg.class_map\n",
    "        self.DATA_PATH = cfg.DATA_PATH\n",
    "\n",
    "    def load_data(self, resize=True, shape=None, max_number=1000000):\n",
    "        # if customize shape\n",
    "        if shape is not None:\n",
    "            self.image_shape = shape\n",
    "        else:\n",
    "            shape = self.image_shape\n",
    "        # load data\n",
    "        for p in glob.glob(pjoin(self.DATA_PATH, '*')):\n",
    "            print(\"*** Loading components of %s: %d ***\" %(p.split('\\\\')[-1], int(len(glob.glob(pjoin(p, '*.png'))))))\n",
    "            label = cfg.class_id[p.split('\\\\')[-1]]\n",
    "\n",
    "            for i, image_path in enumerate(tqdm(glob.glob(pjoin(p, '*.png'))[:max_number])):\n",
    "                image = cv2.imread(image_path)\n",
    "                if resize:\n",
    "                    image = cv2.resize(image, shape[:2])\n",
    "                self.images.append(image)\n",
    "                self.labels.append(label)\n",
    "        assert len(self.images) == len(self.labels)\n",
    "        self.data_num = len(self.images)\n",
    "        print('%d Data Loaded' % self.data_num)\n",
    "\n",
    "    def generate_training_data(self, train_data_ratio=0.8):\n",
    "        # transfer int into c dimensions one-hot array\n",
    "        def expand(label, class_number):\n",
    "            # return y : (num_class, num_samples)\n",
    "            y = np.eye(class_number)[label]\n",
    "            y = np.squeeze(y)\n",
    "            return y\n",
    "        # reshuffle\n",
    "        np.random.seed(0)\n",
    "        self.images = np.random.permutation(self.images)\n",
    "        np.random.seed(0)\n",
    "        self.labels = np.random.permutation(self.labels)\n",
    "        Y = expand(self.labels, self.class_number)\n",
    "        # separate dataset\n",
    "        cut = int(train_data_ratio * self.data_num)\n",
    "        self.X_train = (self.images[:cut] / 255).astype('float32')\n",
    "        self.X_test = (self.images[cut:] / 255).astype('float32')\n",
    "        self.Y_train = Y[:cut]\n",
    "        self.Y_test = Y[cut:]\n",
    "        print('X_train:%d, Y_train:%d' % (len(self.X_train), len(self.Y_train)))\n",
    "        print('X_test:%d, Y_test:%d' % (len(self.X_test), len(self.Y_test)))\n"
   ]
  },
  {
   "cell_type": "code",
   "execution_count": 6,
   "metadata": {},
   "outputs": [],
   "source": [
    "data = Data()"
   ]
  },
  {
   "cell_type": "code",
   "execution_count": 7,
   "metadata": {},
   "outputs": [
    {
     "name": "stderr",
     "output_type": "stream",
     "text": [
      "\r",
      "  0%|                                                                                        | 0/10000 [00:00<?, ?it/s]"
     ]
    },
    {
     "name": "stdout",
     "output_type": "stream",
     "text": [
      "*** Loading components of Button: 33477 ***\n"
     ]
    },
    {
     "name": "stderr",
     "output_type": "stream",
     "text": [
      "100%|███████████████████████████████████████████████████████████████████████████| 10000/10000 [01:15<00:00, 131.74it/s]\n",
      "  0%|▏                                                                              | 13/7118 [00:00<00:55, 128.79it/s]"
     ]
    },
    {
     "name": "stdout",
     "output_type": "stream",
     "text": [
      "*** Loading components of CheckBox: 7118 ***\n"
     ]
    },
    {
     "name": "stderr",
     "output_type": "stream",
     "text": [
      "100%|█████████████████████████████████████████████████████████████████████████████| 7118/7118 [00:53<00:00, 133.13it/s]\n",
      " 15%|████████████                                                                       | 8/55 [00:00<00:00, 76.41it/s]"
     ]
    },
    {
     "name": "stdout",
     "output_type": "stream",
     "text": [
      "*** Loading components of Chronometer: 55 ***\n"
     ]
    },
    {
     "name": "stderr",
     "output_type": "stream",
     "text": [
      "100%|█████████████████████████████████████████████████████████████████████████████████| 55/55 [00:00<00:00, 118.09it/s]\n",
      "  0%|                                                                                | 9/10000 [00:00<01:54, 87.62it/s]"
     ]
    },
    {
     "name": "stdout",
     "output_type": "stream",
     "text": [
      "*** Loading components of EditText: 11365 ***\n"
     ]
    },
    {
     "name": "stderr",
     "output_type": "stream",
     "text": [
      "100%|███████████████████████████████████████████████████████████████████████████| 10000/10000 [01:34<00:00, 105.31it/s]\n"
     ]
    },
    {
     "name": "stdout",
     "output_type": "stream",
     "text": [
      "*** Loading components of ImageButton: 71742 ***\n"
     ]
    },
    {
     "name": "stderr",
     "output_type": "stream",
     "text": [
      "100%|███████████████████████████████████████████████████████████████████████████| 10000/10000 [01:15<00:00, 133.07it/s]\n"
     ]
    },
    {
     "name": "stdout",
     "output_type": "stream",
     "text": [
      "*** Loading components of ImageView: 222864 ***\n"
     ]
    },
    {
     "name": "stderr",
     "output_type": "stream",
     "text": [
      "100%|███████████████████████████████████████████████████████████████████████████| 10000/10000 [01:08<00:00, 145.61it/s]\n",
      "  0%|▏                                                                                | 4/1462 [00:00<00:46, 31.58it/s]"
     ]
    },
    {
     "name": "stdout",
     "output_type": "stream",
     "text": [
      "*** Loading components of ProgressBar: 1462 ***\n"
     ]
    },
    {
     "name": "stderr",
     "output_type": "stream",
     "text": [
      "100%|██████████████████████████████████████████████████████████████████████████████| 1462/1462 [00:24<00:00, 60.57it/s]\n",
      "  0%|                                                                                 | 4/4854 [00:00<02:43, 29.64it/s]"
     ]
    },
    {
     "name": "stdout",
     "output_type": "stream",
     "text": [
      "*** Loading components of RadioButton: 4854 ***\n"
     ]
    },
    {
     "name": "stderr",
     "output_type": "stream",
     "text": [
      "100%|█████████████████████████████████████████████████████████████████████████████| 4854/4854 [00:43<00:00, 111.92it/s]\n",
      "  1%|▍                                                                                 | 5/848 [00:00<00:17, 48.67it/s]"
     ]
    },
    {
     "name": "stdout",
     "output_type": "stream",
     "text": [
      "*** Loading components of RatingBar: 848 ***\n"
     ]
    },
    {
     "name": "stderr",
     "output_type": "stream",
     "text": [
      "100%|████████████████████████████████████████████████████████████████████████████████| 848/848 [00:11<00:00, 72.55it/s]\n",
      "  0%|▎                                                                                | 5/1553 [00:00<00:37, 41.42it/s]"
     ]
    },
    {
     "name": "stdout",
     "output_type": "stream",
     "text": [
      "*** Loading components of SeekBar: 1553 ***\n"
     ]
    },
    {
     "name": "stderr",
     "output_type": "stream",
     "text": [
      "100%|██████████████████████████████████████████████████████████████████████████████| 1553/1553 [00:25<00:00, 61.13it/s]\n",
      "  4%|███▏                                                                              | 4/104 [00:00<00:02, 39.27it/s]"
     ]
    },
    {
     "name": "stdout",
     "output_type": "stream",
     "text": [
      "*** Loading components of Spinner: 104 ***\n"
     ]
    },
    {
     "name": "stderr",
     "output_type": "stream",
     "text": [
      "100%|████████████████████████████████████████████████████████████████████████████████| 104/104 [00:02<00:00, 46.63it/s]\n",
      "  0%|                                                                                         | 0/2736 [00:00<?, ?it/s]"
     ]
    },
    {
     "name": "stdout",
     "output_type": "stream",
     "text": [
      "*** Loading components of Switch: 2736 ***\n"
     ]
    },
    {
     "name": "stderr",
     "output_type": "stream",
     "text": [
      "100%|██████████████████████████████████████████████████████████████████████████████| 2736/2736 [00:36<00:00, 75.95it/s]\n"
     ]
    },
    {
     "name": "stdout",
     "output_type": "stream",
     "text": [
      "*** Loading components of TextView: 392887 ***\n"
     ]
    },
    {
     "name": "stderr",
     "output_type": "stream",
     "text": [
      "100%|███████████████████████████████████████████████████████████████████████████| 10000/10000 [00:43<00:00, 227.91it/s]\n",
      "  0%|▏                                                                                | 4/2444 [00:00<01:16, 32.01it/s]"
     ]
    },
    {
     "name": "stdout",
     "output_type": "stream",
     "text": [
      "*** Loading components of ToggleButton: 2444 ***\n"
     ]
    },
    {
     "name": "stderr",
     "output_type": "stream",
     "text": [
      "100%|██████████████████████████████████████████████████████████████████████████████| 2444/2444 [00:27<00:00, 90.34it/s]\n",
      "  1%|█▏                                                                                | 4/278 [00:00<00:07, 34.57it/s]"
     ]
    },
    {
     "name": "stdout",
     "output_type": "stream",
     "text": [
      "*** Loading components of VideoView: 278 ***\n"
     ]
    },
    {
     "name": "stderr",
     "output_type": "stream",
     "text": [
      "100%|████████████████████████████████████████████████████████████████████████████████| 278/278 [00:09<00:00, 30.71it/s]"
     ]
    },
    {
     "name": "stdout",
     "output_type": "stream",
     "text": [
      "71452 Data Loaded\n"
     ]
    },
    {
     "name": "stderr",
     "output_type": "stream",
     "text": [
      "\n"
     ]
    }
   ],
   "source": [
    "data.load_data(max_number=10000)"
   ]
  },
  {
   "cell_type": "code",
   "execution_count": 8,
   "metadata": {},
   "outputs": [
    {
     "name": "stdout",
     "output_type": "stream",
     "text": [
      "X_train:71452, Y_train:71452\n",
      "X_test:0, Y_test:0\n"
     ]
    }
   ],
   "source": [
    "data.generate_training_data(1)"
   ]
  },
  {
   "cell_type": "code",
   "execution_count": 15,
   "metadata": {},
   "outputs": [],
   "source": [
    "data.X_test = data.X_train\n",
    "data.Y_test = data.Y_train"
   ]
  },
  {
   "cell_type": "code",
   "execution_count": 11,
   "metadata": {},
   "outputs": [],
   "source": [
    "class Config:\n",
    "    def __init__(self):\n",
    "        self.image_shape = (64, 64, 3)\n",
    "        # self.class_map = ['Image', 'Icon', 'Button', 'Input']     # ele-4\n",
    "        self.class_map = ['Button', 'CheckBox', 'Chronometer', 'EditText', 'ImageButton', 'ImageView',\n",
    "                          'ProgressBar', 'RadioButton', 'RatingBar', 'SeekBar', 'Spinner', 'Switch',\n",
    "                          'ToggleButton', 'VideoView', 'TextView']            # ele-14\n",
    "#         self.DATA_PATH = \"E:\\Temp\\clipping\"\n",
    "        self.DATA_PATH = \"E:/Mulong/Datasets/rico/elements-14\"\n",
    "        self.MODEL_PATH = 'E:/Mulong/Model/rico_compos/cnn-rico-1.h5'\n",
    "        self.class_id = {'Button':0, 'CheckBox':1, 'Chronometer':2, 'EditText':3, 'ImageButton':4, 'ImageView':5,\n",
    "                          'ProgressBar':6, 'RadioButton':7, 'RatingBar':8, 'SeekBar':9, 'Spinner':10, 'Switch':11,\n",
    "                          'ToggleButton':12, 'VideoView':13, 'TextView':14}\n",
    "\n",
    "        # self.DATA_PATH = \"E:/Mulong/Datasets/rico/elements-14\"\n",
    "        # self.MODEL_PATH = 'E:/Mulong/Model/rico_compos/cnn2-ele14.h5'\n",
    "\n",
    "        # self.DATA_PATH = \"E:\\Mulong\\Datasets\\dataset_webpage\\Components3\"\n",
    "        # self.MODEL_PATH = 'E:/Mulong/Model/rico_compos/cnn1-text.h5'\n",
    "\n",
    "        # TEXT AND NON-TEXT\n",
    "        # self.DATA_PATH = \"E:\\Mulong\\Datasets\\dataset_webpage\\Components3\"\n",
    "        # self.MODEL_PATH = 'E:/Mulong/Model/rico_compos/cnn2-textview.h5'\n",
    "        # self.class_map = ['Text', 'Non-Text']\n",
    "\n",
    "        # NOISE RECOGNITION\n",
    "        # self.DATA_PATH = \"E:\\Mulong\\Datasets\\dataset_webpage\\Components3\"\n",
    "        # self.MODEL_PATH = 'E:/Mulong/Model/rico_compos/cnn1-noise.h5'\n",
    "        # self.class_map = ['Noise', 'Non-Noise']\n",
    "\n",
    "        # IMAGE RECOGNITION\n",
    "        # self.DATA_PATH = \"E:\\Mulong\\Datasets\\dataset_webpage\\Components3\"\n",
    "        # self.MODEL_PATH = 'E:/Mulong/Model/rico_compos/cnn-image-1.h5'\n",
    "        # self.class_map = ['Image', 'Non-Image']\n",
    "\n",
    "        self.class_number = len(self.class_map)\n",
    "\n",
    "cfg = Config()"
   ]
  },
  {
   "cell_type": "code",
   "execution_count": 17,
   "metadata": {},
   "outputs": [],
   "source": [
    "from keras.models import Sequential, load_model\n",
    "from keras.layers import Conv2D, MaxPool2D, Dense, Flatten, Dropout\n",
    "from sklearn.metrics import confusion_matrix\n",
    "import cv2\n",
    "import numpy as np\n",
    "\n",
    "class CNN:\n",
    "\n",
    "    def __init__(self):\n",
    "        self.data = None\n",
    "        self.model = None\n",
    "\n",
    "        self.image_shape = cfg.image_shape\n",
    "        self.class_number = cfg.class_number\n",
    "        self.class_map = cfg.class_map\n",
    "        self.MODEL_PATH = cfg.MODEL_PATH\n",
    "\n",
    "    def network(self, epoch_num):\n",
    "        # block 1\n",
    "        self.model.add(Conv2D(64, (3, 3), activation='relu', input_shape=self.image_shape, padding='same'))\n",
    "        self.model.add(Conv2D(64, (3, 3), activation='relu', padding='same'))\n",
    "        self.model.add(MaxPool2D(pool_size=(2, 2)))\n",
    "        self.model.add(Dropout(0.25))\n",
    "        # block 2\n",
    "        self.model.add(Flatten())\n",
    "        self.model.add(Dense(128, activation='relu'))\n",
    "        self.model.add(Dropout(0.5))\n",
    "        # block 3\n",
    "        self.model.add(Dense(self.class_number, activation='softmax'))\n",
    "\n",
    "        self.model.compile(loss='categorical_crossentropy', optimizer='adadelta', metrics=['accuracy'])\n",
    "        self.model.fit(self.data.X_train, self.data.Y_train, batch_size=64, epochs=epoch_num, verbose=1, validation_data=(self.data.X_test, self.data.Y_test))\n",
    "\n",
    "    def train(self, data, epoch_num=30):\n",
    "        print(\"Trained model is saved to\", self.MODEL_PATH)\n",
    "        self.data = data\n",
    "        self.model = Sequential()\n",
    "        self.network(epoch_num)\n",
    "        self.model.save(self.MODEL_PATH)\n",
    "\n",
    "    def evaluate(self, data, load=True):\n",
    "        # calculate TP, FN, FP, TN\n",
    "        def calculate_n_p(matrix):\n",
    "            TP, FN, FP, TN = 0, 0, 0, 0\n",
    "            for i in range(len(matrix)):\n",
    "                TP += matrix[i][i] \n",
    "                FN += (np.sum(matrix[:, i]) - matrix[i][i])\n",
    "                FP += (np.sum(matrix[i]) - matrix[i][i])\n",
    "                TN += (np.trace(matrix) - matrix[i][i]) \n",
    "            return TP, FN, FP, TN\n",
    "\n",
    "        if load:\n",
    "            self.load()\n",
    "        X_test = data.X_test\n",
    "        Y_test = [np.argmax(y) for y in data.Y_test]\n",
    "        Y_pre = []\n",
    "        for X in X_test:\n",
    "            X = np.array([X])\n",
    "            Y_pre.append(np.argmax(self.model.predict(X)))\n",
    "\n",
    "        matrix = confusion_matrix(Y_test, Y_pre)\n",
    "        TP, FN, FP, TN = calculate_n_p(matrix)\n",
    "        recall = TP / (TP + FN)\n",
    "        precision = TP / (TP + FP)\n",
    "        accuracy = (TP + TN) / (TP + FN + FP + TN)\n",
    "        balanced_accuracy = TP\n",
    "        print(matrix)\n",
    "        print('\\nTP:%.3f \\t FN:%.3f \\nFP:%.3f \\t TN:%.3f\\n' % (TP, FN, FP, TN))\n",
    "        print('recall:%.3f \\t precision:%.3f \\t accuracy:%.3f \\t balanced accuracy:%.3f' % (recall, precision, accuracy, balanced_accuracy))\n",
    "        return matrix\n",
    "        \n",
    "    def predict(self, img_path, load=True, show=False):\n",
    "        \"\"\"\n",
    "        :type img_path: list of img path\n",
    "        \"\"\"\n",
    "        if load:\n",
    "            self.load()\n",
    "        for path in img_path:\n",
    "            img = cv2.imread(path)\n",
    "            X = cv2.resize(img, self.image_shape[:2])\n",
    "            X = (X / 255).astype('float32')\n",
    "            X = np.array([X])  # from (64, 64, 3) to (1, 64, 64, 3)\n",
    "            Y = self.class_map[np.argmax(self.model.predict(X))]\n",
    "            print(Y)\n",
    "            if show:\n",
    "                cv2.imshow('img', img)\n",
    "                cv2.waitKey(0)\n",
    "                cv2.destroyAllWindows()\n",
    "\n",
    "    def load(self):\n",
    "        self.model = load_model(self.MODEL_PATH)\n",
    "        print('Model Loaded From', self.MODEL_PATH)"
   ]
  },
  {
   "cell_type": "code",
   "execution_count": 13,
   "metadata": {},
   "outputs": [],
   "source": [
    "cnn = CNN()"
   ]
  },
  {
   "cell_type": "code",
   "execution_count": 19,
   "metadata": {},
   "outputs": [
    {
     "name": "stdout",
     "output_type": "stream",
     "text": [
      "Model Loaded From E:/Mulong/Model/rico_compos/cnn-rico-1.h5\n",
      "[[1767    0    0   60  160 1777    0    0    0    5    0    0    0    0\n",
      "  6231]\n",
      " [  64  288    0   10  537 4626    2    0    0    2    0    8    0    0\n",
      "  1581]\n",
      " [   2    0    0    1    0   11    0    0    0    0    0    0    0    0\n",
      "    41]\n",
      " [  81    0    0 2768   28 1985    0    0    0    7    0    0    0    0\n",
      "  5131]\n",
      " [ 112   11    0   13 4163 4630    1    0    0    7    0    0    0    0\n",
      "  1063]\n",
      " [  61    1    0   16  788 7926    0    0    0    2    0    0    0    0\n",
      "  1206]\n",
      " [  19    2    0    5   66 1118    1    0    0    9    0    0    0    0\n",
      "   242]\n",
      " [  51    1    0    2  231 3672    0    0    0    1    0    0    0    0\n",
      "   896]\n",
      " [   0    0    0    1    6  695    0    0    0    1    0    0    0    0\n",
      "   145]\n",
      " [  24    0    0   11   52  970    0    0    0  225    0    1    0    0\n",
      "   270]\n",
      " [   5    0    0    2    2   71    0    0    0    0    0    0    0    0\n",
      "    24]\n",
      " [  27    0    0   22  132 1694    0    0    0    2    0   39    0    0\n",
      "   820]\n",
      " [ 175    0    0    5  234 1268    0    0    0    2    0    2    0    0\n",
      "   758]\n",
      " [   3    0    0    0    2  241    0    0    0    0    0    0    0    0\n",
      "    32]\n",
      " [ 103    0    0  226   70 2053    0    0    0    5    0    0    0    0\n",
      "  7543]]\n",
      "\n",
      "TP:0.174 \t FN:nan \n",
      "FP:0.826 \t TN:0.933\n",
      "\n",
      "recall:nan \t precision:0.174 \t accuracy:nan \t balanced accuracy:0.174\n"
     ]
    },
    {
     "name": "stderr",
     "output_type": "stream",
     "text": [
      "D:\\Anaconda\\lib\\site-packages\\ipykernel_launcher.py:47: RuntimeWarning: invalid value encountered in longlong_scalars\n"
     ]
    }
   ],
   "source": [
    "matrix = cnn.evaluate(data)"
   ]
  },
  {
   "cell_type": "code",
   "execution_count": 20,
   "metadata": {},
   "outputs": [
    {
     "data": {
      "text/plain": [
       "array([[1767,    0,    0,   60,  160, 1777,    0,    0,    0,    5,    0,\n",
       "           0,    0,    0, 6231],\n",
       "       [  64,  288,    0,   10,  537, 4626,    2,    0,    0,    2,    0,\n",
       "           8,    0,    0, 1581],\n",
       "       [   2,    0,    0,    1,    0,   11,    0,    0,    0,    0,    0,\n",
       "           0,    0,    0,   41],\n",
       "       [  81,    0,    0, 2768,   28, 1985,    0,    0,    0,    7,    0,\n",
       "           0,    0,    0, 5131],\n",
       "       [ 112,   11,    0,   13, 4163, 4630,    1,    0,    0,    7,    0,\n",
       "           0,    0,    0, 1063],\n",
       "       [  61,    1,    0,   16,  788, 7926,    0,    0,    0,    2,    0,\n",
       "           0,    0,    0, 1206],\n",
       "       [  19,    2,    0,    5,   66, 1118,    1,    0,    0,    9,    0,\n",
       "           0,    0,    0,  242],\n",
       "       [  51,    1,    0,    2,  231, 3672,    0,    0,    0,    1,    0,\n",
       "           0,    0,    0,  896],\n",
       "       [   0,    0,    0,    1,    6,  695,    0,    0,    0,    1,    0,\n",
       "           0,    0,    0,  145],\n",
       "       [  24,    0,    0,   11,   52,  970,    0,    0,    0,  225,    0,\n",
       "           1,    0,    0,  270],\n",
       "       [   5,    0,    0,    2,    2,   71,    0,    0,    0,    0,    0,\n",
       "           0,    0,    0,   24],\n",
       "       [  27,    0,    0,   22,  132, 1694,    0,    0,    0,    2,    0,\n",
       "          39,    0,    0,  820],\n",
       "       [ 175,    0,    0,    5,  234, 1268,    0,    0,    0,    2,    0,\n",
       "           2,    0,    0,  758],\n",
       "       [   3,    0,    0,    0,    2,  241,    0,    0,    0,    0,    0,\n",
       "           0,    0,    0,   32],\n",
       "       [ 103,    0,    0,  226,   70, 2053,    0,    0,    0,    5,    0,\n",
       "           0,    0,    0, 7543]], dtype=int64)"
      ]
     },
     "execution_count": 20,
     "metadata": {},
     "output_type": "execute_result"
    }
   ],
   "source": [
    "matrix"
   ]
  },
  {
   "cell_type": "code",
   "execution_count": 21,
   "metadata": {},
   "outputs": [],
   "source": [
    "def calculate_n_p(matrix):\n",
    "    TP, FN, FP, TN = 0, 0, 0, 0\n",
    "    for i in range(len(matrix)):\n",
    "        TP += matrix[i][i] \n",
    "        FN += (np.sum(matrix[:, i]) - matrix[i][i])\n",
    "        FP += (np.sum(matrix[i]) - matrix[i][i])\n",
    "        TN += (np.trace(matrix) - matrix[i][i]) \n",
    "    return TP, FN, FP, TN"
   ]
  },
  {
   "cell_type": "code",
   "execution_count": 22,
   "metadata": {},
   "outputs": [],
   "source": [
    "score = calculate_n_p(matrix)"
   ]
  }
 ],
 "metadata": {
  "kernelspec": {
   "display_name": "Python 3",
   "language": "python",
   "name": "python3"
  },
  "language_info": {
   "codemirror_mode": {
    "name": "ipython",
    "version": 3
   },
   "file_extension": ".py",
   "mimetype": "text/x-python",
   "name": "python",
   "nbconvert_exporter": "python",
   "pygments_lexer": "ipython3",
   "version": "3.5.6"
  }
 },
 "nbformat": 4,
 "nbformat_minor": 2
}
