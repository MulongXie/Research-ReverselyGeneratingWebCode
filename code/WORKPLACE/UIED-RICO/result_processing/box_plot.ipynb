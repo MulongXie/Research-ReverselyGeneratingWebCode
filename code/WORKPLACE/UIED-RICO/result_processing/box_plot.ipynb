{
 "cells": [
  {
   "cell_type": "code",
   "execution_count": 1,
   "metadata": {},
   "outputs": [],
   "source": [
    "import json\n",
    "import numpy as np\n",
    "import cv2\n",
    "from glob import glob\n",
    "from os.path import join as pjoin\n",
    "from tqdm import tqdm"
   ]
  },
  {
   "cell_type": "code",
   "execution_count": 6,
   "metadata": {},
   "outputs": [],
   "source": [
    "def resize_label(bboxes, d_height, gt_height, bias=0):\n",
    "    bboxes_new = []\n",
    "    scale = gt_height/d_height\n",
    "    for bbox in bboxes:\n",
    "        bbox = [int(b * scale + bias) for b in bbox]\n",
    "        bboxes_new.append(bbox)\n",
    "    return bboxes_new\n",
    "\n",
    "\n",
    "def draw_bounding_box(org, corners, color=(0, 255, 0), line=2, show=False):\n",
    "    board = org.copy()\n",
    "    for i in range(len(corners)):\n",
    "        board = cv2.rectangle(board, (corners[i][0], corners[i][1]), (corners[i][2], corners[i][3]), color, line)\n",
    "    if show:\n",
    "        cv2.imshow('a', cv2.resize(board, (300, 600)))\n",
    "        cv2.waitKey(0)\n",
    "    return board\n",
    "\n",
    "\n",
    "def load_detect_result_json(reslut_file_root):\n",
    "    result_files = glob(pjoin(reslut_file_root, '*.json'))\n",
    "    compos_reform = {}\n",
    "    print('Loading %d detection results' % len(result_files))\n",
    "    for reslut_file in tqdm(result_files):\n",
    "        img_name = reslut_file.split('\\\\')[-1].split('_')[0]\n",
    "        compos = json.load(open(reslut_file, 'r'))['compos']\n",
    "        for compo in compos:\n",
    "            if img_name not in compos_reform:\n",
    "                compos_reform[img_name] = {'bboxes': [[compo['column_min'], compo['row_min'], compo['column_max'], compo['row_max']]],\n",
    "                                           'categories': [compo['class']]}\n",
    "            else:\n",
    "                compos_reform[img_name]['bboxes'].append([compo['column_min'], compo['row_min'], compo['column_max'], compo['row_max']])\n",
    "                compos_reform[img_name]['categories'].append(compo['class'])\n",
    "    return compos_reform\n",
    "\n",
    "\n",
    "def load_ground_truth_json(gt_file):\n",
    "    def get_img_by_id(img_id):\n",
    "        for image in images:\n",
    "            if image['id'] == img_id:\n",
    "                return image['file_name'].split('/')[-1][:-4], (image['height'], image['width'])\n",
    "\n",
    "    def cvt_bbox(bbox):\n",
    "        '''\n",
    "        :param bbox: [x,y,width,height]\n",
    "        :return: [col_min, row_min, col_max, row_max]\n",
    "        '''\n",
    "        bbox = [int(b) for b in bbox]\n",
    "        return [bbox[0], bbox[1], bbox[0] + bbox[2], bbox[1] + bbox[3]]\n",
    "\n",
    "    data = json.load(open(gt_file, 'r'))\n",
    "    images = data['images']\n",
    "    annots = data['annotations']\n",
    "    compos = {}\n",
    "    print('Loading %d ground truth' % len(annots))\n",
    "    for annot in tqdm(annots):\n",
    "        img_name, size = get_img_by_id(annot['image_id'])\n",
    "        if img_name not in compos:\n",
    "            compos[img_name] = {'bboxes': [cvt_bbox(annot['bbox'])], 'categories': [annot['category_id']], 'size':size}\n",
    "        else:\n",
    "            compos[img_name]['bboxes'].append(cvt_bbox(annot['bbox']))\n",
    "            compos[img_name]['categories'].append(annot['category_id'])\n",
    "    return compos\n",
    "\n",
    "\n",
    "def eval(detection, ground_truth, img_root, show=True):\n",
    "    def match(org, d_bbox, gt_bboxes, matched):\n",
    "        '''\n",
    "        :param matched: mark if the ground truth component is matched\n",
    "        :param d_bbox: [col_min, row_min, col_max, row_max]\n",
    "        :param gt_bboxes: list of ground truth [[col_min, row_min, col_max, row_max]]\n",
    "        :return: Boolean: if IOU large enough or detected box is contained by ground truth\n",
    "        '''\n",
    "        area_d = (d_bbox[2] - d_bbox[0]) * (d_bbox[3] - d_bbox[1])\n",
    "        for i, gt_bbox in enumerate(gt_bboxes):\n",
    "            if matched[i] == 0:\n",
    "                continue\n",
    "            area_gt = (gt_bbox[2] - gt_bbox[0]) * (gt_bbox[3] - gt_bbox[1])\n",
    "            col_min = max(d_bbox[0], gt_bbox[0])\n",
    "            row_min = max(d_bbox[1], gt_bbox[1])\n",
    "            col_max = min(d_bbox[2], gt_bbox[2])\n",
    "            row_max = min(d_bbox[3], gt_bbox[3])\n",
    "            # if not intersected, area intersection should be 0\n",
    "            w = max(0, col_max - col_min)\n",
    "            h = max(0, row_max - row_min)\n",
    "            area_inter = w * h\n",
    "            if area_inter == 0:\n",
    "                continue\n",
    "            iod = area_inter / area_d\n",
    "            iou = area_inter / (area_d + area_gt - area_inter)\n",
    "\n",
    "            # if show:\n",
    "            #     print(\"IoDetection: %.3f, IoU: %.3f\" % (iod, iou))\n",
    "            #     broad = draw_bounding_box(org, [d_bbox], color=(0, 0, 255))\n",
    "            #     draw_bounding_box(broad, [gt_bbox], color=(0, 255, 0), show=True)\n",
    "\n",
    "            if iou >= 0.5 or iod == 1:\n",
    "                matched[i] = 0\n",
    "                return True\n",
    "        return False\n",
    "\n",
    "    pres = []\n",
    "    recalls = []\n",
    "    amount = len(detection)\n",
    "    for i, image_id in enumerate(detection):\n",
    "        TP, FP, FN = 0, 0, 0\n",
    "        img = cv2.imread(pjoin(img_root, image_id + '.jpg'))\n",
    "        d_compos = detection[image_id]\n",
    "        gt_compos = ground_truth[image_id]\n",
    "        d_compos['bboxes'] = resize_label(d_compos['bboxes'], 800, gt_compos['size'][0])\n",
    "        matched = np.ones(len(gt_compos['bboxes']), dtype=int)\n",
    "        for d_bbox in d_compos['bboxes']:\n",
    "            if match(img, d_bbox, gt_compos['bboxes'], matched):\n",
    "                TP += 1\n",
    "            else:\n",
    "                FP += 1\n",
    "        FN += sum(matched)\n",
    "\n",
    "        precesion = TP / (TP+FP)\n",
    "        recall = TP / (TP+FN)\n",
    "\n",
    "        pres.append(precesion)\n",
    "        recalls.append(recall)\n",
    "        if show:\n",
    "            print(\"Number of gt boxes: %d, Number of detected boxes: %d\" % (\n",
    "            len(gt_compos['bboxes']), len(d_compos['bboxes'])))\n",
    "            print('[%d/%d] TP:%d, FP:%d, FN:%d, Precesion:%.3f, Recall:%.3f' % (i, amount, TP, FP, FN, precesion, recall))\n",
    "\n",
    "            broad = draw_bounding_box(img,  d_compos['bboxes'], color=(0, 0, 255), line=3)\n",
    "            draw_bounding_box(broad, gt_compos['bboxes'], color=(0, 255, 0), show=True, line=2)\n",
    "\n",
    "        if i % 200 == 0:\n",
    "            print('[%d/%d] TP:%d, FP:%d, FN:%d, Precesion:%.3f, Recall:%.3f' % (i, amount, TP, FP, FN, precesion, recall))\n",
    "\n",
    "    return pres, recalls"
   ]
  },
  {
   "cell_type": "code",
   "execution_count": 7,
   "metadata": {},
   "outputs": [
    {
     "name": "stderr",
     "output_type": "stream",
     "text": [
      " 17%|█▋        | 748/4318 [00:00<00:00, 3866.72it/s]"
     ]
    },
    {
     "name": "stdout",
     "output_type": "stream",
     "text": [
      "Loading 4318 detection results\n"
     ]
    },
    {
     "name": "stderr",
     "output_type": "stream",
     "text": [
      "100%|██████████| 4318/4318 [00:00<00:00, 4463.52it/s]\n",
      "  8%|▊         | 7208/90722 [00:00<00:01, 71540.23it/s]"
     ]
    },
    {
     "name": "stdout",
     "output_type": "stream",
     "text": [
      "Loading 90722 ground truth\n"
     ]
    },
    {
     "name": "stderr",
     "output_type": "stream",
     "text": [
      "100%|██████████| 90722/90722 [00:12<00:00, 7451.24it/s] \n"
     ]
    },
    {
     "name": "stdout",
     "output_type": "stream",
     "text": [
      "[0/4318] TP:2, FP:12, FN:4, Precesion:0.143, Recall:0.333\n",
      "[200/4318] TP:9, FP:0, FN:0, Precesion:1.000, Recall:1.000\n",
      "[400/4318] TP:4, FP:25, FN:6, Precesion:0.138, Recall:0.400\n",
      "[600/4318] TP:2, FP:4, FN:12, Precesion:0.333, Recall:0.143\n",
      "[800/4318] TP:11, FP:10, FN:2, Precesion:0.524, Recall:0.846\n",
      "[1000/4318] TP:1, FP:5, FN:2, Precesion:0.167, Recall:0.333\n",
      "[1200/4318] TP:12, FP:2, FN:2, Precesion:0.857, Recall:0.857\n",
      "[1400/4318] TP:8, FP:3, FN:14, Precesion:0.727, Recall:0.364\n",
      "[1600/4318] TP:12, FP:3, FN:3, Precesion:0.800, Recall:0.800\n",
      "[1800/4318] TP:24, FP:7, FN:12, Precesion:0.774, Recall:0.667\n",
      "[2000/4318] TP:5, FP:7, FN:8, Precesion:0.417, Recall:0.385\n",
      "[2200/4318] TP:2, FP:20, FN:0, Precesion:0.091, Recall:1.000\n",
      "[2400/4318] TP:5, FP:24, FN:0, Precesion:0.172, Recall:1.000\n",
      "[2600/4318] TP:6, FP:32, FN:9, Precesion:0.158, Recall:0.400\n",
      "[2800/4318] TP:5, FP:6, FN:10, Precesion:0.455, Recall:0.333\n",
      "[3000/4318] TP:17, FP:11, FN:19, Precesion:0.607, Recall:0.472\n",
      "[3200/4318] TP:22, FP:6, FN:15, Precesion:0.786, Recall:0.595\n",
      "[3400/4318] TP:12, FP:3, FN:1, Precesion:0.800, Recall:0.923\n",
      "[3600/4318] TP:9, FP:12, FN:10, Precesion:0.429, Recall:0.474\n",
      "[3800/4318] TP:25, FP:4, FN:10, Precesion:0.862, Recall:0.714\n",
      "[4000/4318] TP:2, FP:21, FN:0, Precesion:0.087, Recall:1.000\n",
      "[4200/4318] TP:19, FP:1, FN:1, Precesion:0.950, Recall:0.950\n"
     ]
    }
   ],
   "source": [
    "detect = load_detect_result_json('E:\\\\Mulong\\\\Result\\\\rico2\\\\ip')\n",
    "gt = load_ground_truth_json('E:/Mulong/Datasets/rico/instances_val_notext.json')\n",
    "pres, recalls = eval(detect, gt, 'E:\\\\Mulong\\\\Datasets\\\\rico\\\\combined', show=False)"
   ]
  },
  {
   "cell_type": "code",
   "execution_count": 14,
   "metadata": {},
   "outputs": [
    {
     "name": "stderr",
     "output_type": "stream",
     "text": [
      "D:\\Anaconda\\lib\\site-packages\\matplotlib\\figure.py:448: UserWarning: Matplotlib is currently using module://ipykernel.pylab.backend_inline, which is a non-GUI backend, so cannot show the figure.\n",
      "  % get_backend())\n"
     ]
    },
    {
     "data": {
      "image/png": "[encoded data removed]",
      "text/plain": [
       "<Figure size 432x288 with 1 Axes>"
      ]
     },
     "metadata": {
      "needs_background": "light"
     },
     "output_type": "display_data"
    }
   ],
   "source": [
    "import matplotlib.pyplot as plt\n",
    "\n",
    "fig = plt.figure()  # 创建画布\n",
    "ax = plt.subplot()  # 创建作图区域\n",
    "ax.boxplot([pres, recalls])\n",
    "ax.set_xticklabels(['precisions', 'recalls'])\n",
    "plt.grid(axis='y')\n",
    "fig.show()"
   ]
  },
  {
   "cell_type": "code",
   "execution_count": null,
   "metadata": {},
   "outputs": [],
   "source": []
  }
 ],
 "metadata": {
  "kernelspec": {
   "display_name": "Python 3",
   "language": "python",
   "name": "python3"
  },
  "language_info": {
   "codemirror_mode": {
    "name": "ipython",
    "version": 3
   },
   "file_extension": ".py",
   "mimetype": "text/x-python",
   "name": "python",
   "nbconvert_exporter": "python",
   "pygments_lexer": "ipython3",
   "version": "3.5.6"
  }
 },
 "nbformat": 4,
 "nbformat_minor": 2
}
