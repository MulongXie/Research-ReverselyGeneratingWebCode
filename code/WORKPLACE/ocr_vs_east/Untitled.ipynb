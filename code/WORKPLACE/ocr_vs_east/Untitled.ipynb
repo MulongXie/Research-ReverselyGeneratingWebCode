{
 "cells": [
  {
   "cell_type": "code",
   "execution_count": 1,
   "metadata": {},
   "outputs": [],
   "source": [
    "import json\n",
    "import numpy as np\n",
    "import cv2\n",
    "from glob import glob\n",
    "from os.path import join as pjoin\n",
    "from tqdm import tqdm"
   ]
  },
  {
   "cell_type": "code",
   "execution_count": 33,
   "metadata": {},
   "outputs": [],
   "source": [
    "def load_result_multi_json(reslut_file_root):\n",
    "    def is_bottom_or_top(corner):\n",
    "        column_min, row_min, column_max, row_max = corner\n",
    "        if row_max < 36 or row_min > 725:\n",
    "            return True\n",
    "        return False\n",
    "\n",
    "    result_files = glob(pjoin(reslut_file_root, '*.json'))\n",
    "    compos_reform = {}\n",
    "    print('Loading %d detection results' % len(result_files))\n",
    "    for reslut_file in tqdm(result_files):\n",
    "        img_name = reslut_file.split('\\\\')[-1].split('.')[0]\n",
    "        compos = json.load(open(reslut_file, 'r'))['compos']\n",
    "        for compo in compos:\n",
    "            if is_bottom_or_top((compo['column_min'], compo['row_min'], compo['column_min'] + compo['column_max'], compo['row_min'] + compo['row_max'])):\n",
    "                continue\n",
    "            if img_name not in compos_reform:\n",
    "                compos_reform[img_name] = {'bboxes': [[compo['column_min'], compo['row_min'], compo['column_min'] + compo['column_max'], compo['row_min'] + compo['row_max']]],\n",
    "                                           'categories': [compo['class']]}\n",
    "            else:\n",
    "                compos_reform[img_name]['bboxes'].append([compo['column_min'], compo['row_min'], compo['column_min'] + compo['column_max'], compo['row_min'] + compo['row_max']])\n",
    "                compos_reform[img_name]['categories'].append(compo['class'])\n",
    "    return compos_reform"
   ]
  },
  {
   "cell_type": "code",
   "execution_count": 34,
   "metadata": {},
   "outputs": [
    {
     "name": "stderr",
     "output_type": "stream",
     "text": [
      "  0%|                                                                                 | 7/5066 [00:00<01:21, 62.01it/s]"
     ]
    },
    {
     "name": "stdout",
     "output_type": "stream",
     "text": [
      "Loading 5066 detection results\n"
     ]
    },
    {
     "name": "stderr",
     "output_type": "stream",
     "text": [
      "100%|█████████████████████████████████████████████████████████████████████████████| 5066/5066 [00:49<00:00, 101.46it/s]\n"
     ]
    }
   ],
   "source": [
    "detect = load_result_multi_json('E:\\\\Mulong\\\\Result\\\\ocr')"
   ]
  },
  {
   "cell_type": "code",
   "execution_count": 36,
   "metadata": {},
   "outputs": [],
   "source": [
    "def merge_text(corners, org_shape, max_word_gad=10, max_word_height_ratio=0.05):\n",
    "    def is_text_line(corner_a, corner_b):\n",
    "        ((col_min_a, row_min_a), (col_max_a, row_max_a)) = corner_a\n",
    "        ((col_min_b, row_min_b), (col_max_b, row_max_b)) = corner_b\n",
    "        # on the same line\n",
    "        if abs(row_min_a - row_min_b) < max_word_gad and abs(row_max_a - row_max_b) < max_word_gad:\n",
    "            # close distance\n",
    "            if abs(col_min_b - col_max_a) < max_word_gad or abs(col_min_a - col_max_b) < max_word_gad:\n",
    "                return True\n",
    "        return False\n",
    "\n",
    "    def corner_merge_two_corners(corner_a, corner_b):\n",
    "        ((col_min_a, row_min_a), (col_max_a, row_max_a)) = corner_a\n",
    "        ((col_min_b, row_min_b), (col_max_b, row_max_b)) = corner_b\n",
    "\n",
    "        col_min = min(col_min_a, col_min_b)\n",
    "        col_max = max(col_max_a, col_max_b)\n",
    "        row_min = min(row_min_a, row_min_b)\n",
    "        row_max = max(row_max_a, row_max_b)\n",
    "        return (col_min, row_min), (col_max, row_max)\n",
    "\n",
    "    changed = False\n",
    "    new_corners = []\n",
    "    row, col = org_shape[:2]\n",
    "    for i in range(len(corners)):\n",
    "        merged = False\n",
    "        height = corners[i][1][1] - corners[i][0][1]\n",
    "        # ignore non-text\n",
    "        if height / row > max_word_height_ratio:\n",
    "            new_corners.append(corners[i])\n",
    "            continue\n",
    "        for j in range(len(new_corners)):\n",
    "            if is_text_line(corners[i], new_corners[j]):\n",
    "                new_corners[j] = corner_merge_two_corners(corners[i], new_corners[j])\n",
    "                merged = True\n",
    "                changed = True\n",
    "                break\n",
    "        if not merged:\n",
    "            new_corners.append(corners[i])\n",
    "\n",
    "    if not changed:\n",
    "        return corners\n",
    "    else:\n",
    "        return merge_text(new_corners, org_shape)\n"
   ]
  },
  {
   "cell_type": "code",
   "execution_count": 40,
   "metadata": {},
   "outputs": [
    {
     "ename": "TypeError",
     "evalue": "'int' object is not subscriptable",
     "output_type": "error",
     "traceback": [
      "\u001b[1;31m---------------------------------------------------------------------------\u001b[0m",
      "\u001b[1;31mTypeError\u001b[0m                                 Traceback (most recent call last)",
      "\u001b[1;32m<ipython-input-40-cf78e2c5722e>\u001b[0m in \u001b[0;36m<module>\u001b[1;34m()\u001b[0m\n\u001b[0;32m      1\u001b[0m \u001b[1;32mfor\u001b[0m \u001b[0mimg_id\u001b[0m \u001b[1;32min\u001b[0m \u001b[0mdetect\u001b[0m\u001b[1;33m:\u001b[0m\u001b[1;33m\u001b[0m\u001b[0m\n\u001b[0;32m      2\u001b[0m     \u001b[0mimg\u001b[0m \u001b[1;33m=\u001b[0m \u001b[0mcv2\u001b[0m\u001b[1;33m.\u001b[0m\u001b[0mimread\u001b[0m\u001b[1;33m(\u001b[0m\u001b[1;34m'E:\\\\Mulong\\\\Datasets\\\\rico\\\\combined'\u001b[0m \u001b[1;33m+\u001b[0m \u001b[1;34m'\\\\'\u001b[0m \u001b[1;33m+\u001b[0m \u001b[0mimg_id\u001b[0m \u001b[1;33m+\u001b[0m \u001b[1;34m'.jpg'\u001b[0m\u001b[1;33m)\u001b[0m\u001b[1;33m\u001b[0m\u001b[0m\n\u001b[1;32m----> 3\u001b[1;33m     \u001b[0mmerge_text\u001b[0m\u001b[1;33m(\u001b[0m\u001b[0mdetect\u001b[0m\u001b[1;33m[\u001b[0m\u001b[0mimg_id\u001b[0m\u001b[1;33m]\u001b[0m\u001b[1;33m[\u001b[0m\u001b[1;34m'bboxes'\u001b[0m\u001b[1;33m]\u001b[0m\u001b[1;33m,\u001b[0m \u001b[0mimg\u001b[0m\u001b[1;33m.\u001b[0m\u001b[0mshape\u001b[0m\u001b[1;33m)\u001b[0m\u001b[1;33m\u001b[0m\u001b[0m\n\u001b[0m",
      "\u001b[1;32m<ipython-input-36-724d4ceeb748>\u001b[0m in \u001b[0;36mmerge_text\u001b[1;34m(corners, org_shape, max_word_gad, max_word_height_ratio)\u001b[0m\n\u001b[0;32m     25\u001b[0m     \u001b[1;32mfor\u001b[0m \u001b[0mi\u001b[0m \u001b[1;32min\u001b[0m \u001b[0mrange\u001b[0m\u001b[1;33m(\u001b[0m\u001b[0mlen\u001b[0m\u001b[1;33m(\u001b[0m\u001b[0mcorners\u001b[0m\u001b[1;33m)\u001b[0m\u001b[1;33m)\u001b[0m\u001b[1;33m:\u001b[0m\u001b[1;33m\u001b[0m\u001b[0m\n\u001b[0;32m     26\u001b[0m         \u001b[0mmerged\u001b[0m \u001b[1;33m=\u001b[0m \u001b[1;32mFalse\u001b[0m\u001b[1;33m\u001b[0m\u001b[0m\n\u001b[1;32m---> 27\u001b[1;33m         \u001b[0mheight\u001b[0m \u001b[1;33m=\u001b[0m \u001b[0mcorners\u001b[0m\u001b[1;33m[\u001b[0m\u001b[0mi\u001b[0m\u001b[1;33m]\u001b[0m\u001b[1;33m[\u001b[0m\u001b[1;36m1\u001b[0m\u001b[1;33m]\u001b[0m\u001b[1;33m[\u001b[0m\u001b[1;36m1\u001b[0m\u001b[1;33m]\u001b[0m \u001b[1;33m-\u001b[0m \u001b[0mcorners\u001b[0m\u001b[1;33m[\u001b[0m\u001b[0mi\u001b[0m\u001b[1;33m]\u001b[0m\u001b[1;33m[\u001b[0m\u001b[1;36m0\u001b[0m\u001b[1;33m]\u001b[0m\u001b[1;33m[\u001b[0m\u001b[1;36m1\u001b[0m\u001b[1;33m]\u001b[0m\u001b[1;33m\u001b[0m\u001b[0m\n\u001b[0m\u001b[0;32m     28\u001b[0m         \u001b[1;31m# ignore non-text\u001b[0m\u001b[1;33m\u001b[0m\u001b[1;33m\u001b[0m\u001b[0m\n\u001b[0;32m     29\u001b[0m         \u001b[1;32mif\u001b[0m \u001b[0mheight\u001b[0m \u001b[1;33m/\u001b[0m \u001b[0mrow\u001b[0m \u001b[1;33m>\u001b[0m \u001b[0mmax_word_height_ratio\u001b[0m\u001b[1;33m:\u001b[0m\u001b[1;33m\u001b[0m\u001b[0m\n",
      "\u001b[1;31mTypeError\u001b[0m: 'int' object is not subscriptable"
     ]
    }
   ],
   "source": [
    "for img_id in detect:\n",
    "    img = cv2.imread('E:\\\\Mulong\\\\Datasets\\\\rico\\\\combined' + '\\\\' + img_id + '.jpg')\n",
    "    merge_text(detect[img_id]['bboxes'], img.shape)"
   ]
  },
  {
   "cell_type": "code",
   "execution_count": null,
   "metadata": {},
   "outputs": [],
   "source": []
  }
 ],
 "metadata": {
  "kernelspec": {
   "display_name": "Python 3",
   "language": "python",
   "name": "python3"
  },
  "language_info": {
   "codemirror_mode": {
    "name": "ipython",
    "version": 3
   },
   "file_extension": ".py",
   "mimetype": "text/x-python",
   "name": "python",
   "nbconvert_exporter": "python",
   "pygments_lexer": "ipython3",
   "version": "3.5.6"
  }
 },
 "nbformat": 4,
 "nbformat_minor": 2
}
